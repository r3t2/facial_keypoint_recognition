{
 "cells": [
  {
   "cell_type": "code",
   "execution_count": 1,
   "metadata": {
    "collapsed": false
   },
   "outputs": [
    {
     "name": "stderr",
     "output_type": "stream",
     "text": [
      "/home/mily/anaconda2/lib/python2.7/site-packages/matplotlib/font_manager.py:273: UserWarning: Matplotlib is building the font cache using fc-list. This may take a moment.\n",
      "  warnings.warn('Matplotlib is building the font cache using fc-list. This may take a moment.')\n"
     ]
    }
   ],
   "source": [
    "%matplotlib inline\n",
    "import numpy as np\n",
    "\n",
    "caffe_root = '../../../caffe/'\n",
    "\n",
    "import sys\n",
    "sys.path.insert(0, caffe_root + 'python')\n",
    "import caffe"
   ]
  },
  {
   "cell_type": "code",
   "execution_count": 2,
   "metadata": {
    "collapsed": false
   },
   "outputs": [
    {
     "name": "stdout",
     "output_type": "stream",
     "text": [
      "loading ../data/train_data_cleaned.npz\n",
      "loaded:  ['X_val_clean_cv', 'y_val_clean_cv', 'y_train_clean_cv', 'feature_labels', 'X_train_clean_cv']\n",
      "(1640, 1, 96, 96) (1640, 30)\n",
      "(500, 1, 96, 96) (500, 30)\n"
     ]
    }
   ],
   "source": [
    "import os\n",
    "np_loaded_data_file = '../data/train_data_cleaned.npz'\n",
    "if not os.path.isfile(np_loaded_data_file):\n",
    "    print \"%s does not exist. See facial_recog_kaggle.ipynb\" % np_loaded_data_file\n",
    "else:\n",
    "    print \"loading %s\" % np_loaded_data_file\n",
    "    npzfile = np.load(np_loaded_data_file)\n",
    "    print \"loaded: \", npzfile.files\n",
    "    X_train_clean_cv, y_train_clean_cv = npzfile['X_train_clean_cv'], npzfile['y_train_clean_cv']\n",
    "    X_val_clean_cv, y_val_clean_cv = npzfile['X_val_clean_cv'], npzfile['y_val_clean_cv']\n",
    "    feature_labels = npzfile['feature_labels']\n",
    "    print X_train_clean_cv.shape, y_train_clean_cv.shape\n",
    "    print X_val_clean_cv.shape, y_val_clean_cv.shape\n",
    "    "
   ]
  },
  {
   "cell_type": "code",
   "execution_count": 3,
   "metadata": {
    "collapsed": true
   },
   "outputs": [],
   "source": [
    "#Define all params for training\n",
    "batch_size = 128\n",
    "base_learning_rate = 1e-4\n",
    "num_epochs = 50\n",
    "regularization_param = 5e-4\n",
    "td_size = X_train_clean_cv.shape[0]\n",
    "# td_size = 256\n",
    "val_data_size = X_val_clean_cv.shape[0]\n",
    "# val_data_size = 2*batch_size"
   ]
  },
  {
   "cell_type": "code",
   "execution_count": 4,
   "metadata": {
    "collapsed": false
   },
   "outputs": [],
   "source": [
    "from caffe import layers as L, params as P\n",
    "\n",
    "def lenet(hdf5_list, batch_size=64):\n",
    "    # our version of LeNet: a series of linear and simple nonlinear transformations\n",
    "    n = caffe.NetSpec()\n",
    "    \n",
    "    n.data, n.label = L.HDF5Data(batch_size=batch_size, source=hdf5_list, ntop=2)\n",
    "    \n",
    "    n.conv1 = L.Convolution(n.data, kernel_size=5, num_output=20, weight_filler=dict(type='xavier'))\n",
    "    n.relu1 = L.ReLU(n.conv1, in_place=True)\n",
    "    n.pool1 = L.Pooling(n.relu1, kernel_size=2, stride=2, pool=P.Pooling.MAX)\n",
    "    \n",
    "    n.conv2 = L.Convolution(n.pool1, kernel_size=5, num_output=50, weight_filler=dict(type='xavier'))\n",
    "    n.relu2 = L.ReLU(n.conv2, in_place=True)\n",
    "    n.pool2 = L.Pooling(n.relu2, kernel_size=2, stride=2, pool=P.Pooling.MAX)\n",
    "    \n",
    "    n.fc1 =   L.InnerProduct(n.pool2, num_output=500, weight_filler=dict(type='xavier'))\n",
    "    n.relu3 = L.ReLU(n.fc1, in_place=True)\n",
    "    n.score = L.InnerProduct(n.relu3, num_output=30, weight_filler=dict(type='xavier'))\n",
    "    n.loss =  L.EuclideanLoss(n.score, n.label)\n",
    "    \n",
    "    return n.to_proto()\n",
    "\n",
    "train_net_path = 'train_net.prototxt'\n",
    "test_net_path = 'test_net.prototxt'\n",
    "\n",
    "with open(train_net_path, 'w') as f:\n",
    "    f.write(str(lenet(hdf5_list='../data/train_hdf5.list', batch_size=batch_size)))\n",
    "    \n",
    "with open(test_net_path, 'w') as f:\n",
    "    f.write(str(lenet(hdf5_list='../data/test_hdf5.list', batch_size=batch_size)))"
   ]
  },
  {
   "cell_type": "code",
   "execution_count": 5,
   "metadata": {
    "collapsed": false
   },
   "outputs": [],
   "source": [
    "from caffe.proto import caffe_pb2\n",
    "s = caffe_pb2.SolverParameter()\n",
    "\n",
    "# Set a seed for reproducible experiments:\n",
    "# this controls for randomization in training.\n",
    "s.random_seed = 0xCAFFE\n",
    "\n",
    "# Specify locations of the train and (maybe) test networks.\n",
    "s.train_net = train_net_path\n",
    "\n",
    "s.test_net.append(test_net_path)\n",
    "s.test_iter.append(1) # Test on 100 batches each time we test.\n",
    "\n",
    "s.test_net.append(train_net_path)\n",
    "s.test_iter.append(1) # Test on 100 batches each time we test.\n",
    "\n",
    "\n",
    "s.test_interval = 1000000  # Test after every 500 training iterations.\n",
    "\n",
    "\n",
    "s.max_iter = 10000     # no. of times to update the net (training iterations)\n",
    " \n",
    "# EDIT HERE to try different solvers\n",
    "# solver types include \"SGD\", \"Adam\", and \"Nesterov\" among others.\n",
    "s.type = \"Adam\"\n",
    "\n",
    "# Set the initial learning rate for SGD.\n",
    "s.base_lr = base_learning_rate  # EDIT HERE to try different learning rates\n",
    "# Set momentum to accelerate learning by\n",
    "# taking weighted average of current and previous updates.\n",
    "s.momentum = 0.9\n",
    "# Set weight decay to regularize and prevent overfitting\n",
    "s.weight_decay = regularization_param\n",
    "\n",
    "# Set `lr_policy` to define how the learning rate changes during training.\n",
    "# This is the same policy as our default LeNet.\n",
    "s.lr_policy = 'inv'\n",
    "s.gamma = 0.0001\n",
    "s.power = 0.75\n",
    "# EDIT HERE to try the fixed rate (and compare with adaptive solvers)\n",
    "# `fixed` is the simplest policy that keeps the learning rate constant.\n",
    "# s.lr_policy = 'fixed'\n",
    "\n",
    "# Display the current training loss and accuracy every 1000 iterations.\n",
    "s.display = 2\n",
    "\n",
    "# Snapshots are files used to store networks we've trained.\n",
    "# We'll snapshot every 5K iterations -- twice during training.\n",
    "s.snapshot = 1000000\n",
    "s.snapshot_prefix = 'lenet_'\n",
    "\n",
    "s.snapshot_after_train = True\n",
    "\n",
    "# Train on the GPU\n",
    "s.solver_mode = caffe_pb2.SolverParameter.CPU\n",
    "\n",
    "\n",
    "solver_config_fname = 'lenet_solver.prototxt'\n",
    "# Write the solver to a temporary file and return its filename.\n",
    "with open(solver_config_fname, 'w') as f:\n",
    "    f.write(str(s))"
   ]
  },
  {
   "cell_type": "code",
   "execution_count": 6,
   "metadata": {
    "collapsed": false
   },
   "outputs": [
    {
     "name": "stdout",
     "output_type": "stream",
     "text": [
      "CPU times: user 5.34 s, sys: 225 ms, total: 5.56 s\n",
      "Wall time: 5.71 s\n"
     ]
    }
   ],
   "source": [
    "%%time\n",
    "\n",
    "import h5py\n",
    "f = h5py.File('../data/train_data_lenet.hd5', 'w')\n",
    "f.create_dataset('data', data=X_train_clean_cv[0:td_size], compression='gzip', compression_opts=4)\n",
    "f.create_dataset('label', data=y_train_clean_cv[0:td_size], compression='gzip', compression_opts=4)\n",
    "f.close()\n",
    "\n",
    "f = h5py.File('../data/test_data_lenet.hd5', 'w')\n",
    "f.create_dataset('data', data=X_val_clean_cv, compression='gzip', compression_opts=4)\n",
    "f.create_dataset('label', data=y_val_clean_cv, compression='gzip', compression_opts=4)\n",
    "f.close()\n",
    "\n",
    "\n",
    "\n",
    "solver = None\n",
    "solver = caffe.get_solver(solver_config_fname)"
   ]
  },
  {
   "cell_type": "code",
   "execution_count": 7,
   "metadata": {
    "collapsed": false
   },
   "outputs": [
    {
     "name": "stdout",
     "output_type": "stream",
     "text": [
      "CPU times: user 12.3 s, sys: 914 ms, total: 13.2 s\n",
      "Wall time: 7.54 s\n"
     ]
    }
   ],
   "source": [
    "%%time\n",
    "solver.step(1)"
   ]
  },
  {
   "cell_type": "code",
   "execution_count": 8,
   "metadata": {
    "collapsed": false
   },
   "outputs": [
    {
     "name": "stdout",
     "output_type": "stream",
     "text": [
      "CPU times: user 5.74 s, sys: 104 ms, total: 5.84 s\n",
      "Wall time: 3.28 s\n"
     ]
    }
   ],
   "source": [
    "%%time\n",
    "solver.step(1)"
   ]
  },
  {
   "cell_type": "code",
   "execution_count": 9,
   "metadata": {
    "collapsed": false
   },
   "outputs": [
    {
     "name": "stdout",
     "output_type": "stream",
     "text": [
      "CPU times: user 9 µs, sys: 1e+03 ns, total: 10 µs\n",
      "Wall time: 17.9 µs\n"
     ]
    }
   ],
   "source": [
    "%%time\n",
    "# solver.step(10)"
   ]
  },
  {
   "cell_type": "code",
   "execution_count": 10,
   "metadata": {
    "collapsed": false
   },
   "outputs": [
    {
     "name": "stdout",
     "output_type": "stream",
     "text": [
      "CPU times: user 0 ns, sys: 0 ns, total: 0 ns\n",
      "Wall time: 11 µs\n"
     ]
    }
   ],
   "source": [
    "%%time\n",
    "if 0:\n",
    "    td_size = 1\n",
    "    f = h5py.File('../data/train_data_lenet.hd5', 'w')\n",
    "    f.create_dataset('data', data=X_train_clean_cv[0:td_size], compression='gzip', compression_opts=4)\n",
    "    f.create_dataset('label', data=y_train_clean_cv[0:td_size], compression='gzip', compression_opts=4)\n",
    "    f.close()\n",
    "\n",
    "    solver = None\n",
    "    solver = caffe.get_solver(solver_config_fname)\n",
    "\n",
    "    num_epochs = 100\n",
    "    num_iter_per_epoch = int(np.ceil(float(td_size) / batch_size))\n",
    "    niter = num_iter_per_epoch * num_epochs\n",
    "\n",
    "    #val_data_size = X_val_clean_cv.shape[0]\n",
    "    val_data_size = 4*batch_size\n",
    "\n",
    "    print \"td_size = %d\" % td_size\n",
    "    print \"niter = %d\" % niter\n",
    "\n",
    "    solver.step(niter)\n",
    "\n",
    "    train_error_check = solver.net.blobs['loss'].data\n",
    "\n",
    "    print \"testing...\"\n",
    "\n",
    "    val_error = 0\n",
    "    val_error_check = 0\n",
    "    niter_val = int(np.ceil( float(val_data_size) / batch_size))\n",
    "    for test_it in range(niter_val):\n",
    "        solver.test_nets[0].forward()\n",
    "        val_error += np.sum( (solver.test_nets[0].blobs['score'].data -\n",
    "                             solver.test_nets[0].blobs['label'].data) ** 2) / (2 * float(val_data_size))\n",
    "        val_error_check += solver.test_nets[0].blobs['loss'].data / niter_val\n",
    "\n",
    "\n",
    "    train_error = 0\n",
    "    for test_it in range(num_iter_per_epoch):\n",
    "        solver.test_nets[1].forward()\n",
    "        train_error += np.sum( (solver.test_nets[1].blobs['score'].data -\n",
    "                             solver.test_nets[1].blobs['label'].data) ** 2) / (2 * float(num_iter_per_epoch * batch_size))\n",
    "\n",
    "    print \"train_error = %f, train_error_check = %f, \\\n",
    "    val_error = %f, val_error_check = %f\" % \\\n",
    "            (train_error, train_error_check, val_error, val_error_check)"
   ]
  },
  {
   "cell_type": "code",
   "execution_count": 11,
   "metadata": {
    "collapsed": false,
    "scrolled": true
   },
   "outputs": [
    {
     "name": "stdout",
     "output_type": "stream",
     "text": [
      "td_size = 1640\n",
      "niter = 650\n",
      "val_interval = 13\n",
      "it = 0, train_error = 47729.621094, val_error = 32176.650391\n",
      "it = 13, train_error = 2912.139648, val_error = 2672.151306\n",
      "it = 26, train_error = 1702.012573, val_error = 1537.114777\n",
      "it = 39, train_error = 1428.376099, val_error = 1165.164490\n",
      "it = 52, train_error = 1195.271240, val_error = 1003.714630\n",
      "it = 65, train_error = 1008.609985, val_error = 898.806931\n",
      "it = 78, train_error = 799.982971, val_error = 831.246124\n",
      "it = 91, train_error = 646.980957, val_error = 779.351471\n",
      "it = 104, train_error = 521.101807, val_error = 746.823135\n",
      "it = 117, train_error = 489.674713, val_error = 707.982315\n",
      "it = 130, train_error = 432.167877, val_error = 678.523575\n",
      "it = 143, train_error = 417.156433, val_error = 670.333038\n",
      "it = 156, train_error = 458.099915, val_error = 645.390808\n",
      "it = 169, train_error = 456.709869, val_error = 623.274269\n",
      "it = 182, train_error = 456.143158, val_error = 602.696686\n",
      "it = 195, train_error = 430.124146, val_error = 602.258240\n",
      "it = 208, train_error = 408.827454, val_error = 572.957245\n",
      "it = 221, train_error = 390.827087, val_error = 559.896179\n",
      "it = 234, train_error = 312.331848, val_error = 552.375214\n",
      "it = 247, train_error = 293.629272, val_error = 541.900711\n",
      "it = 260, train_error = 300.457703, val_error = 540.639168\n",
      "it = 273, train_error = 295.819061, val_error = 547.726212\n",
      "it = 286, train_error = 264.245850, val_error = 538.342331\n",
      "it = 299, train_error = 251.228806, val_error = 522.991089\n",
      "it = 312, train_error = 235.778046, val_error = 517.039658\n",
      "it = 325, train_error = 222.732697, val_error = 514.403999\n",
      "it = 338, train_error = 230.321503, val_error = 518.165215\n",
      "it = 351, train_error = 204.734192, val_error = 512.965263\n",
      "it = 364, train_error = 220.283844, val_error = 516.572372\n",
      "it = 377, train_error = 206.863708, val_error = 513.617531\n",
      "it = 390, train_error = 198.505753, val_error = 511.502991\n",
      "it = 403, train_error = 163.193146, val_error = 502.902740\n",
      "it = 416, train_error = 144.169098, val_error = 512.081009\n",
      "it = 429, train_error = 121.350204, val_error = 503.444031\n",
      "it = 442, train_error = 121.846268, val_error = 532.155724\n",
      "it = 455, train_error = 125.172386, val_error = 542.783768\n",
      "it = 468, train_error = 144.116699, val_error = 536.746284\n",
      "it = 481, train_error = 137.936768, val_error = 548.897209\n",
      "it = 494, train_error = 153.012970, val_error = 554.318634\n",
      "it = 507, train_error = 142.524719, val_error = 568.890472\n",
      "it = 520, train_error = 143.581573, val_error = 625.210510\n",
      "it = 533, train_error = 153.808136, val_error = 603.263031\n",
      "it = 546, train_error = 179.988678, val_error = 607.454803\n",
      "it = 559, train_error = 261.915497, val_error = 671.984482\n",
      "it = 572, train_error = 232.555145, val_error = 842.587112\n",
      "it = 585, train_error = 242.188690, val_error = 738.412781\n",
      "it = 598, train_error = 522.327454, val_error = 626.542145\n",
      "it = 611, train_error = 340.051178, val_error = 806.016479\n",
      "it = 624, train_error = 349.228729, val_error = 544.379807\n",
      "it = 637, train_error = 343.700989, val_error = 535.482018\n",
      "CPU times: user 1h 9min 26s, sys: 43.2 s, total: 1h 10min 10s\n",
      "Wall time: 39min 24s\n"
     ]
    }
   ],
   "source": [
    "%%time\n",
    "\n",
    "f = h5py.File('../data/train_data_lenet.hd5', 'w')\n",
    "f.create_dataset('data', data=X_train_clean_cv[0:td_size], compression='gzip', compression_opts=4)\n",
    "f.create_dataset('label', data=y_train_clean_cv[0:td_size], compression='gzip', compression_opts=4)\n",
    "f.close()\n",
    "\n",
    "solver = None\n",
    "solver = caffe.get_solver(solver_config_fname)\n",
    "\n",
    "\n",
    "num_iter_per_epoch = int(np.ceil(float(td_size) / batch_size))\n",
    "niter = num_iter_per_epoch * num_epochs\n",
    "\n",
    "\n",
    "niter_val = int(np.ceil( float(val_data_size) / batch_size))\n",
    "val_interval = num_iter_per_epoch\n",
    "\n",
    "print \"td_size = %d\" % td_size\n",
    "print \"niter = %d\" % niter\n",
    "print \"val_interval = %d\" % val_interval\n",
    "train_error = np.zeros(niter)\n",
    "val_error = np.zeros( int(np.ceil(float(niter) / val_interval)))\n",
    "\n",
    "for it in range(niter):\n",
    "    solver.step(1)\n",
    "    \n",
    "    train_error[it] = solver.net.blobs['loss'].data\n",
    "    \n",
    "    if (it % val_interval) == 0:\n",
    "        \n",
    "        val_error_this = 0\n",
    "        for test_it in range(niter_val):\n",
    "            solver.test_nets[0].forward()\n",
    "            val_error_this += solver.test_nets[0].blobs['loss'].data / niter_val\n",
    "        \n",
    "        val_error[it // val_interval] = val_error_this\n",
    "        \n",
    "        print \"it = %d, train_error = %f, val_error = %f\" % (it, train_error[it], val_error[it // val_interval])\n",
    "\n",
    "solver.net.save('lenet_trained.caffemodel')"
   ]
  },
  {
   "cell_type": "code",
   "execution_count": 12,
   "metadata": {
    "collapsed": false
   },
   "outputs": [
    {
     "data": {
      "text/plain": [
       "(0, 1000)"
      ]
     },
     "execution_count": 12,
     "metadata": {},
     "output_type": "execute_result"
    },
    {
     "data": {
      "image/png": "[encoded data removed]",
      "text/plain": [
       "<matplotlib.figure.Figure at 0x7f266703ee90>"
      ]
     },
     "metadata": {},
     "output_type": "display_data"
    }
   ],
   "source": [
    "import matplotlib.pyplot as plt\n",
    "\n",
    "_, ax1 = plt.subplots()\n",
    "# ax2 = ax1.twinx()\n",
    "ax1.plot(range(niter), train_error, label='train_error')\n",
    "ax1.plot(val_interval * np.arange(len(val_error)), val_error, 'r', label='val_error')\n",
    "ax1.legend()\n",
    "ax1.set_xlabel('iteration')\n",
    "ax1.set_ylabel('error')\n",
    "ax1.set_ylim([0,1000])"
   ]
  },
  {
   "cell_type": "code",
   "execution_count": 13,
   "metadata": {
    "collapsed": false
   },
   "outputs": [
    {
     "name": "stdout",
     "output_type": "stream",
     "text": [
      "training_error = 139.111771, val_error = 535.482018\n"
     ]
    }
   ],
   "source": [
    "print \"training_error = %f, val_error = %f\" % (train_error[-1], val_error[-1])"
   ]
  },
  {
   "cell_type": "code",
   "execution_count": 16,
   "metadata": {
    "collapsed": false
   },
   "outputs": [
    {
     "name": "stdout",
     "output_type": "stream",
     "text": [
      "niter =  650\n",
      "addn_iter = 650, train_error = 183.800751, val_error = 515.601128\n",
      "addn_iter = 663, train_error = 120.210579, val_error = 481.774956\n",
      "addn_iter = 676, train_error = 91.770172, val_error = 481.597389\n",
      "addn_iter = 689, train_error = 88.543297, val_error = 499.083748\n",
      "addn_iter = 702, train_error = 78.125610, val_error = 482.137337\n",
      "addn_iter = 715, train_error = 95.567436, val_error = 493.113892\n",
      "addn_iter = 728, train_error = 97.013512, val_error = 503.557518\n",
      "addn_iter = 741, train_error = 94.353760, val_error = 502.597137\n",
      "addn_iter = 754, train_error = 86.523315, val_error = 498.442520\n",
      "addn_iter = 767, train_error = 81.215469, val_error = 503.556030\n",
      "addn_iter = 780, train_error = 70.835159, val_error = 492.912567\n",
      "addn_iter = 793, train_error = 60.245354, val_error = 505.356171\n",
      "addn_iter = 806, train_error = 51.011387, val_error = 489.631035\n",
      "addn_iter = 819, train_error = 48.223869, val_error = 511.196312\n",
      "addn_iter = 832, train_error = 47.637775, val_error = 498.569031\n",
      "addn_iter = 845, train_error = 49.046257, val_error = 484.401222\n",
      "addn_iter = 858, train_error = 44.386425, val_error = 481.296288\n",
      "addn_iter = 871, train_error = 70.116829, val_error = 480.415512\n",
      "addn_iter = 884, train_error = 71.472595, val_error = 491.397949\n",
      "addn_iter = 897, train_error = 86.609604, val_error = 486.813896\n",
      "addn_iter = 910, train_error = 84.885391, val_error = 478.772247\n",
      "addn_iter = 923, train_error = 83.473801, val_error = 481.081528\n",
      "addn_iter = 936, train_error = 56.892097, val_error = 482.129799\n",
      "addn_iter = 949, train_error = 55.048332, val_error = 476.965118\n",
      "addn_iter = 962, train_error = 47.704086, val_error = 488.183701\n"
     ]
    }
   ],
   "source": [
    "if 1:\n",
    "    additional_epochs = 25\n",
    "    addn_niter = num_iter_per_epoch * additional_epochs\n",
    "    train_error_2 = np.append(train_error, np.zeros(addn_niter))\n",
    "    val_error_2 = np.append(val_error, np.zeros(int(np.ceil(float(addn_niter) / val_interval))))\n",
    "\n",
    "    print \"niter = \", niter\n",
    "\n",
    "    for it in range(niter, niter + addn_niter):\n",
    "        solver.step(1)\n",
    "\n",
    "        train_error_2[it] = solver.net.blobs['loss'].data\n",
    "\n",
    "        if (it % val_interval) == 0:\n",
    "\n",
    "            val_error_this = 0\n",
    "            for test_it in range(niter_val):\n",
    "                solver.test_nets[0].forward()\n",
    "                val_error_this += solver.test_nets[0].blobs['loss'].data / niter_val\n",
    "\n",
    "            val_error_2[it // val_interval] = val_error_this\n",
    "\n",
    "            print \"addn_iter = %d, train_error = %f, val_error = %f\" % (it, train_error_2[it], val_error_2[it // val_interval])"
   ]
  },
  {
   "cell_type": "code",
   "execution_count": 19,
   "metadata": {
    "collapsed": false
   },
   "outputs": [
    {
     "data": {
      "image/png": "[encoded data removed]",
      "text/plain": [
       "<matplotlib.figure.Figure at 0x7f266703e590>"
      ]
     },
     "metadata": {},
     "output_type": "display_data"
    }
   ],
   "source": [
    "if 1:\n",
    "    _, ax1 = plt.subplots()\n",
    "    # ax2 = ax1.twinx()\n",
    "    ax1.plot(range(len(train_error_2)), train_error_2, label='train_error')\n",
    "    ax1.plot(val_interval * np.arange(len(val_error_2)), val_error_2, 'r', label='val_error')\n",
    "    ax1.legend()\n",
    "    ax1.set_xlabel('iteration')\n",
    "    ax1.set_ylabel('error')\n",
    "    ax1.set_ylim([0,1000])"
   ]
  },
  {
   "cell_type": "code",
   "execution_count": 23,
   "metadata": {
    "collapsed": false
   },
   "outputs": [
    {
     "name": "stdout",
     "output_type": "stream",
     "text": [
      "[[ 65.62869677  38.07669677  31.30590968  39.18348387  59.26234839\n",
      "   40.29089032  73.37868387  40.29089032  38.22596129  41.39829677]\n",
      " [ 66.98038356  35.8118137   32.01139726  36.98728767  61.39726027\n",
      "   36.10566575  73.44526027  36.39951781  38.77019178  37.86884384]\n",
      " [ 69.5802      39.7326      28.8222      37.0512      62.0724      40.5372\n",
      "   75.2112      40.8054      35.2578      38.6598    ]]\n"
     ]
    }
   ],
   "source": [
    "my_net = solver.net\n",
    "my_net.blobs['data'].data[...] = X_train_clean_cv[0]\n",
    "my_net.forward()\n",
    "out = my_net.blobs['score'].data"
   ]
  },
  {
   "cell_type": "code",
   "execution_count": 26,
   "metadata": {
    "collapsed": false
   },
   "outputs": [
    {
     "name": "stdout",
     "output_type": "stream",
     "text": [
      "12.2385222064\n"
     ]
    }
   ],
   "source": [
    "train_error = 0\n",
    "num_batches = 2\n",
    "batch_size_used = 128\n",
    "for it in range(num_batches):\n",
    "    it_range = range(it*batch_size,it*batch_size+batch_size)\n",
    "    my_net.blobs['data'].data[...] = X_train_clean_cv[it_range]\n",
    "    my_net.forward()\n",
    "    out = my_net.blobs['score'].data\n",
    "    \n",
    "    train_error += np.sum( (out - y_train_clean_cv[it_range]) ** 2) / float(2* y_train_clean_cv.shape[1])\n",
    "train_error = train_error / float(num_batches * batch_size)  \n",
    "\n",
    "print train_error"
   ]
  }
 ],
 "metadata": {
  "anaconda-cloud": {},
  "kernelspec": {
   "display_name": "Python [default]",
   "language": "python",
   "name": "python2"
  },
  "language_info": {
   "codemirror_mode": {
    "name": "ipython",
    "version": 2
   },
   "file_extension": ".py",
   "mimetype": "text/x-python",
   "name": "python",
   "nbconvert_exporter": "python",
   "pygments_lexer": "ipython2",
   "version": "2.7.12"
  }
 },
 "nbformat": 4,
 "nbformat_minor": 1
}
