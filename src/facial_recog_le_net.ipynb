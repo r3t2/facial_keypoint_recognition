{
 "cells": [
  {
   "cell_type": "code",
   "execution_count": 48,
   "metadata": {
    "collapsed": false
   },
   "outputs": [],
   "source": [
    "%matplotlib inline\n",
    "import numpy as np\n",
    "\n",
    "caffe_root = '../../../caffe/'\n",
    "\n",
    "import sys\n",
    "sys.path.insert(0, caffe_root + 'python')\n",
    "import caffe\n",
    "\n",
    "import matplotlib.pyplot as plt"
   ]
  },
  {
   "cell_type": "code",
   "execution_count": 49,
   "metadata": {
    "collapsed": false
   },
   "outputs": [
    {
     "name": "stdout",
     "output_type": "stream",
     "text": [
      "loading ../data/train_data_cleaned.npz\n",
      "loaded:  ['X_val_clean_cv', 'y_val_clean_cv', 'y_train_clean_cv', 'feature_labels', 'X_train_clean_cv']\n",
      "(1628, 1, 96, 96) (1628, 30)\n",
      "(512, 1, 96, 96) (512, 30)\n"
     ]
    }
   ],
   "source": [
    "import os\n",
    "np_loaded_data_file = '../data/train_data_cleaned.npz'\n",
    "if not os.path.isfile(np_loaded_data_file):\n",
    "    print \"%s does not exist. See facial_recog_kaggle.ipynb\" % np_loaded_data_file\n",
    "else:\n",
    "    print \"loading %s\" % np_loaded_data_file\n",
    "    npzfile = np.load(np_loaded_data_file)\n",
    "    print \"loaded: \", npzfile.files\n",
    "    X_train_clean_cv, y_train_clean_cv = npzfile['X_train_clean_cv'], npzfile['y_train_clean_cv']\n",
    "    X_val_clean_cv, y_val_clean_cv = npzfile['X_val_clean_cv'], npzfile['y_val_clean_cv']\n",
    "    feature_labels = npzfile['feature_labels']\n",
    "    print X_train_clean_cv.shape, y_train_clean_cv.shape\n",
    "    print X_val_clean_cv.shape, y_val_clean_cv.shape\n",
    "    "
   ]
  },
  {
   "cell_type": "code",
   "execution_count": 50,
   "metadata": {
    "collapsed": true
   },
   "outputs": [],
   "source": [
    "#Define all params for training\n",
    "batch_size = 128\n",
    "base_lr = 5.411695e-04\n",
    "num_epochs = 100\n",
    "min_epochs = 50\n",
    "auto_stop = True\n",
    "\n",
    "reg_param = 4.641589e-03\n",
    "td_size = X_train_clean_cv.shape[0]\n",
    "# td_size = 256\n",
    "val_data_size = X_val_clean_cv.shape[0]\n",
    "# val_data_size = 2*batch_size"
   ]
  },
  {
   "cell_type": "code",
   "execution_count": 51,
   "metadata": {
    "collapsed": false
   },
   "outputs": [],
   "source": [
    "from caffe import layers as L, params as P\n",
    "\n",
    "def lenet(hdf5_list, batch_size=64):\n",
    "    # our version of LeNet: a series of linear and simple nonlinear transformations\n",
    "    n = caffe.NetSpec()\n",
    "    \n",
    "    n.data, n.label = L.HDF5Data(batch_size=batch_size, source=hdf5_list, ntop=2)\n",
    "    \n",
    "    n.conv1 = L.Convolution(n.data, kernel_size=5, num_output=20, weight_filler=dict(type='xavier'))\n",
    "    n.relu1 = L.ReLU(n.conv1, in_place=True)\n",
    "    n.pool1 = L.Pooling(n.relu1, kernel_size=2, stride=2, pool=P.Pooling.MAX)\n",
    "    \n",
    "    n.conv2 = L.Convolution(n.pool1, kernel_size=5, num_output=50, weight_filler=dict(type='xavier'))\n",
    "    n.relu2 = L.ReLU(n.conv2, in_place=True)\n",
    "    n.pool2 = L.Pooling(n.relu2, kernel_size=2, stride=2, pool=P.Pooling.MAX)\n",
    "    \n",
    "    n.fc1 =   L.InnerProduct(n.pool2, num_output=500, weight_filler=dict(type='xavier'))\n",
    "    n.relu3 = L.ReLU(n.fc1, in_place=True)\n",
    "    n.score = L.InnerProduct(n.relu3, num_output=30, weight_filler=dict(type='xavier'))\n",
    "    n.loss =  L.EuclideanLoss(n.score, n.label)\n",
    "    \n",
    "    return n.to_proto()\n",
    "\n",
    "train_net_path = 'train_net.prototxt'\n",
    "test_net_path = 'test_net.prototxt'\n",
    "\n",
    "with open(train_net_path, 'w') as f:\n",
    "    f.write(str(lenet(hdf5_list='../data/train_hdf5.list', batch_size=batch_size)))\n",
    "    \n",
    "with open(test_net_path, 'w') as f:\n",
    "    f.write(str(lenet(hdf5_list='../data/test_hdf5.list', batch_size=batch_size)))"
   ]
  },
  {
   "cell_type": "code",
   "execution_count": 52,
   "metadata": {
    "collapsed": false
   },
   "outputs": [],
   "source": [
    "from caffe.proto import caffe_pb2\n",
    "s = caffe_pb2.SolverParameter()\n",
    "\n",
    "# Set a seed for reproducible experiments:\n",
    "# this controls for randomization in training.\n",
    "s.random_seed = 0xCAFFE\n",
    "\n",
    "# Specify locations of the train and (maybe) test networks.\n",
    "s.train_net = train_net_path\n",
    "\n",
    "s.test_net.append(test_net_path)\n",
    "s.test_iter.append(1) # Test on 100 batches each time we test.\n",
    "\n",
    "s.test_net.append(train_net_path)\n",
    "s.test_iter.append(1) # Test on 100 batches each time we test.\n",
    "\n",
    "\n",
    "s.test_interval = 1000000  # Test after every 500 training iterations.\n",
    "\n",
    "\n",
    "s.max_iter = 10000     # no. of times to update the net (training iterations)\n",
    " \n",
    "# EDIT HERE to try different solvers\n",
    "# solver types include \"SGD\", \"Adam\", and \"Nesterov\" among others.\n",
    "s.type = \"Adam\"\n",
    "\n",
    "# Set the initial learning rate for SGD.\n",
    "s.base_lr = base_lr  # EDIT HERE to try different learning rates\n",
    "# Set momentum to accelerate learning by\n",
    "# taking weighted average of current and previous updates.\n",
    "s.momentum = 0.9\n",
    "# Set weight decay to regularize and prevent overfitting\n",
    "s.weight_decay = reg_param\n",
    "\n",
    "# Set `lr_policy` to define how the learning rate changes during training.\n",
    "# This is the same policy as our default LeNet.\n",
    "# http://stackoverflow.com/questions/30033096/what-is-lr-policy-in-caffe\n",
    "# // The learning rate decay policy. The currently implemented learning rate\n",
    "# // policies are as follows:\n",
    "# //    - fixed: always return base_lr.\n",
    "# //    - step: return base_lr * gamma ^ (floor(iter / step))\n",
    "# //    - exp: return base_lr * gamma ^ iter\n",
    "# //    - inv: return base_lr * (1 + gamma * iter) ^ (- power)\n",
    "# //    - multistep: similar to step but it allows non uniform steps defined by\n",
    "# //      stepvalue\n",
    "# //    - poly: the effective learning rate follows a polynomial decay, to be\n",
    "# //      zero by the max_iter. return base_lr (1 - iter/max_iter) ^ (power)\n",
    "# //    - sigmoid: the effective learning rate follows a sigmod decay\n",
    "# //      return base_lr ( 1/(1 + exp(-gamma * (iter - stepsize))))\n",
    "# //\n",
    "# // where base_lr, max_iter, gamma, step, stepvalue and power are defined\n",
    "# // in the solver parameter protocol buffer, and iter is the current iteration.\n",
    "s.lr_policy = 'inv'\n",
    "s.gamma = 0.01\n",
    "s.power = 0.75\n",
    "# EDIT HERE to try the fixed rate (and compare with adaptive solvers)\n",
    "# `fixed` is the simplest policy that keeps the learning rate constant.\n",
    "# s.lr_policy = 'fixed'\n",
    "\n",
    "# Display the current training loss and accuracy every 1000 iterations.\n",
    "s.display = 2\n",
    "\n",
    "# Snapshots are files used to store networks we've trained.\n",
    "# We'll snapshot every 5K iterations -- twice during training.\n",
    "s.snapshot = 1000000\n",
    "s.snapshot_prefix = 'lenet_'\n",
    "\n",
    "s.snapshot_after_train = True\n",
    "\n",
    "# Train on the GPU\n",
    "s.solver_mode = caffe_pb2.SolverParameter.CPU\n",
    "\n",
    "\n",
    "solver_config_fname = 'lenet_solver.prototxt'\n",
    "# Write the solver to a temporary file and return its filename.\n",
    "with open(solver_config_fname, 'w') as f:\n",
    "    f.write(str(s))"
   ]
  },
  {
   "cell_type": "code",
   "execution_count": 53,
   "metadata": {
    "collapsed": false
   },
   "outputs": [
    {
     "name": "stdout",
     "output_type": "stream",
     "text": [
      "CPU times: user 5.92 s, sys: 128 ms, total: 6.05 s\n",
      "Wall time: 6.07 s\n"
     ]
    }
   ],
   "source": [
    "%%time\n",
    "\n",
    "import h5py\n",
    "f = h5py.File('../data/train_data_lenet.hd5', 'w')\n",
    "f.create_dataset('data', data=X_train_clean_cv[0:td_size], compression='gzip', compression_opts=4)\n",
    "f.create_dataset('label', data=y_train_clean_cv[0:td_size], compression='gzip', compression_opts=4)\n",
    "f.close()\n",
    "\n",
    "f = h5py.File('../data/test_data_lenet.hd5', 'w')\n",
    "f.create_dataset('data', data=X_val_clean_cv, compression='gzip', compression_opts=4)\n",
    "f.create_dataset('label', data=y_val_clean_cv, compression='gzip', compression_opts=4)\n",
    "f.close()\n",
    "\n",
    "\n",
    "\n",
    "solver = None\n",
    "solver = caffe.get_solver(solver_config_fname)"
   ]
  },
  {
   "cell_type": "code",
   "execution_count": 54,
   "metadata": {
    "collapsed": false
   },
   "outputs": [
    {
     "name": "stdout",
     "output_type": "stream",
     "text": [
      "CPU times: user 10.9 s, sys: 879 ms, total: 11.8 s\n",
      "Wall time: 6.67 s\n"
     ]
    }
   ],
   "source": [
    "%%time\n",
    "solver.step(1)"
   ]
  },
  {
   "cell_type": "code",
   "execution_count": 55,
   "metadata": {
    "collapsed": false
   },
   "outputs": [
    {
     "name": "stdout",
     "output_type": "stream",
     "text": [
      "CPU times: user 6.01 s, sys: 60 ms, total: 6.07 s\n",
      "Wall time: 3.49 s\n"
     ]
    }
   ],
   "source": [
    "%%time\n",
    "solver.step(1)"
   ]
  },
  {
   "cell_type": "code",
   "execution_count": 56,
   "metadata": {
    "collapsed": false
   },
   "outputs": [
    {
     "name": "stdout",
     "output_type": "stream",
     "text": [
      "CPU times: user 11 µs, sys: 0 ns, total: 11 µs\n",
      "Wall time: 14.1 µs\n"
     ]
    }
   ],
   "source": [
    "%%time\n",
    "# solver.step(10)"
   ]
  },
  {
   "cell_type": "code",
   "execution_count": 57,
   "metadata": {
    "collapsed": false
   },
   "outputs": [
    {
     "name": "stdout",
     "output_type": "stream",
     "text": [
      "CPU times: user 0 ns, sys: 0 ns, total: 0 ns\n",
      "Wall time: 11 µs\n"
     ]
    }
   ],
   "source": [
    "%%time\n",
    "if 0:\n",
    "    td_size = 1\n",
    "    f = h5py.File('../data/train_data_lenet.hd5', 'w')\n",
    "    f.create_dataset('data', data=X_train_clean_cv[0:td_size], compression='gzip', compression_opts=4)\n",
    "    f.create_dataset('label', data=y_train_clean_cv[0:td_size], compression='gzip', compression_opts=4)\n",
    "    f.close()\n",
    "\n",
    "    solver = None\n",
    "    solver = caffe.get_solver(solver_config_fname)\n",
    "\n",
    "    num_epochs = 100\n",
    "    num_iter_per_epoch = int(np.ceil(float(td_size) / batch_size))\n",
    "    niter = num_iter_per_epoch * num_epochs\n",
    "\n",
    "    #val_data_size = X_val_clean_cv.shape[0]\n",
    "    val_data_size = 4*batch_size\n",
    "\n",
    "    print \"td_size = %d\" % td_size\n",
    "    print \"niter = %d\" % niter\n",
    "\n",
    "    solver.step(niter)\n",
    "\n",
    "    train_error_check = solver.net.blobs['loss'].data\n",
    "\n",
    "    print \"testing...\"\n",
    "\n",
    "    val_error = 0\n",
    "    val_error_check = 0\n",
    "    niter_val = int(np.ceil( float(val_data_size) / batch_size))\n",
    "    for test_it in range(niter_val):\n",
    "        solver.test_nets[0].forward()\n",
    "        val_error += np.sum( (solver.test_nets[0].blobs['score'].data -\n",
    "                             solver.test_nets[0].blobs['label'].data) ** 2) / (2 * float(val_data_size))\n",
    "        val_error_check += solver.test_nets[0].blobs['loss'].data / niter_val\n",
    "\n",
    "\n",
    "    train_error = 0\n",
    "    for test_it in range(num_iter_per_epoch):\n",
    "        solver.test_nets[1].forward()\n",
    "        train_error += np.sum( (solver.test_nets[1].blobs['score'].data -\n",
    "                             solver.test_nets[1].blobs['label'].data) ** 2) / (2 * float(num_iter_per_epoch * batch_size))\n",
    "\n",
    "    print \"train_error = %f, train_error_check = %f, \\\n",
    "    val_error = %f, val_error_check = %f\" % \\\n",
    "            (train_error, train_error_check, val_error, val_error_check)"
   ]
  },
  {
   "cell_type": "code",
   "execution_count": 58,
   "metadata": {
    "collapsed": true
   },
   "outputs": [],
   "source": [
    "def euclidean_loss(a, b):\n",
    "    batch_size, num_labels = a.shape\n",
    "    \n",
    "    return np.sum((a-b)**2) / float(batch_size * 2)"
   ]
  },
  {
   "cell_type": "code",
   "execution_count": 59,
   "metadata": {
    "collapsed": false,
    "scrolled": false
   },
   "outputs": [
    {
     "name": "stdout",
     "output_type": "stream",
     "text": [
      "td_size = 1628\n",
      "niter = 26\n",
      "val_interval = 13\n",
      "it = 0, train_loss = 47326.492188, train_error = 2105643.375000, val_error = 1982768.000000\n",
      "it = 13, train_loss = 30721.304688, train_error = 29543.677734, val_error = 29667.343750\n",
      "it = 25, train_loss = 21291.458984, train_error = 20212.803711, val_error = 20237.563477\n",
      "CPU times: user 3min 40s, sys: 3.75 s, total: 3min 44s\n",
      "Wall time: 2min 6s\n"
     ]
    },
    {
     "data": {
      "image/png": "[encoded data removed]",
      "text/plain": [
       "<matplotlib.figure.Figure at 0x7f7311d36f10>"
      ]
     },
     "metadata": {},
     "output_type": "display_data"
    },
    {
     "data": {
      "image/png": "[encoded data removed]",
      "text/plain": [
       "<matplotlib.figure.Figure at 0x7f731f887850>"
      ]
     },
     "metadata": {},
     "output_type": "display_data"
    },
    {
     "data": {
      "image/png": "[encoded data removed]",
      "text/plain": [
       "<matplotlib.figure.Figure at 0x7f731f79bc90>"
      ]
     },
     "metadata": {},
     "output_type": "display_data"
    }
   ],
   "source": [
    "%%time\n",
    "\n",
    "f = h5py.File('../data/train_data_lenet.hd5', 'w')\n",
    "f.create_dataset('data', data=X_train_clean_cv[0:td_size], compression='gzip', compression_opts=4)\n",
    "f.create_dataset('label', data=y_train_clean_cv[0:td_size], compression='gzip', compression_opts=4)\n",
    "f.close()\n",
    "\n",
    "solver = None\n",
    "solver = caffe.get_solver(solver_config_fname)\n",
    "\n",
    "\n",
    "num_iter_per_epoch = int(np.ceil(float(td_size) / batch_size))\n",
    "niter = num_iter_per_epoch * num_epochs\n",
    "val_interval = num_iter_per_epoch\n",
    "\n",
    "\n",
    "# niter_val_error = int(np.ceil( float(val_data_size) / batch_size))\n",
    "niter_val_error = 2 \n",
    "niter_train_error = 2 \n",
    "\n",
    "print \"td_size = %d\" % td_size\n",
    "print \"niter = %d\" % niter\n",
    "print \"val_interval = %d\" % val_interval\n",
    "train_loss = np.zeros(niter)\n",
    "train_error = np.zeros( int(np.ceil(float(niter) / val_interval)))\n",
    "val_error = np.zeros( int(np.ceil(float(niter) / val_interval)))\n",
    "\n",
    "for it in range(niter):\n",
    "    solver.step(1)\n",
    "    \n",
    "    train_loss[it] = solver.net.blobs['loss'].data\n",
    "    \n",
    "    \n",
    "    \n",
    "    if (it % val_interval) == 0 or (it == niter - 1):\n",
    "        \n",
    "        val_error_this = 0\n",
    "        for test_it in range(niter_val_error):\n",
    "            solver.test_nets[0].forward()\n",
    "            val_error_this += euclidean_loss(solver.test_nets[0].blobs['score'].data , \n",
    "                                             solver.test_nets[0].blobs['label'].data) / niter_val_error\n",
    "        val_error[it // val_interval] = val_error_this\n",
    "        \n",
    "        train_error_this = 0\n",
    "        for test_it in range(niter_train_error):\n",
    "            solver.test_nets[1].forward()\n",
    "            train_error_this += euclidean_loss(solver.test_nets[1].blobs['score'].data , \n",
    "                                             solver.test_nets[1].blobs['label'].data) / niter_train_error\n",
    "        train_error[it // val_interval] = train_error_this\n",
    "        \n",
    "        \n",
    "        print \"it = %d, train_loss = %f, train_error = %f, val_error = %f\" % (it, train_loss[it], train_error[it // val_interval], val_error[it // val_interval])\n",
    "        \n",
    "        _, ax1 = plt.subplots()\n",
    "        # ax2 = ax1.twinx()\n",
    "        ax1.plot(range(niter), train_loss, 'k', label='train_loss')\n",
    "        ax1.plot(val_interval * np.arange(len(val_error)), val_error, 'r', label='val_error')\n",
    "        ax1.plot(val_interval * np.arange(len(train_error)), train_error, 'b', label='train_error')\n",
    "        ax1.legend()\n",
    "        ax1.set_xlabel('iteration')\n",
    "        ax1.set_ylabel('error')\n",
    "        ax1.set_ylim([0,1000])\n",
    "        \n",
    "        if (auto_stop == True) and (it >= min_epochs * batch_size):\n",
    "            val_it = it // val_interval\n",
    "            train_error_10 = train_error[val_it - 10: val_it]\n",
    "            mean_diff_10 = np.mean(np.diff(train_error_10))\n",
    "            if np.abs(mean_diff_10) < 5:\n",
    "                print \"mean_diff_10 = \", mean_diff_10\n",
    "                break\n",
    "train_suffix = \"__b_lr_%.02e__reg_param_%0.02e__batch_size_%d\" % (base_lr, reg_param, batch_size)\n",
    "solver.net.save('lenet_trained' + train_suffix + '.caffemodel')"
   ]
  },
  {
   "cell_type": "code",
   "execution_count": 60,
   "metadata": {
    "collapsed": false
   },
   "outputs": [
    {
     "data": {
      "image/png": "[encoded data removed]",
      "text/plain": [
       "<matplotlib.figure.Figure at 0x7f7311b0de50>"
      ]
     },
     "metadata": {},
     "output_type": "display_data"
    }
   ],
   "source": [
    "# Determine training auto stop \n",
    "\n",
    "mean_10 = np.zeros_like(train_error)\n",
    "std_10 = np.zeros_like(train_error)\n",
    "mean_diff_10 = np.zeros_like(train_error)\n",
    "\n",
    "for idx in range(10, len(train_error)):\n",
    "    train_error_10 = train_error[idx-10:idx]\n",
    "    mean_10[idx] = np.mean(train_error_10)\n",
    "    std_10[idx] = np.std(train_error_10)\n",
    "    mean_diff_10[idx] = np.abs(np.mean(np.diff(train_error_10)))\n",
    "\n",
    "plt.plot(range(len(train_error)), mean_10, color='b')\n",
    "plt.plot(range(len(train_error)), std_10, color='r')\n",
    "plt.plot(range(len(train_error)), mean_diff_10, color='k')\n",
    "plt.ylim([-10, 10])\n",
    "plt.show()\n",
    "\n"
   ]
  },
  {
   "cell_type": "code",
   "execution_count": 61,
   "metadata": {
    "collapsed": false
   },
   "outputs": [
    {
     "name": "stdout",
     "output_type": "stream",
     "text": [
      "training_error = 20212.803711, val_error = 20237.563477\n"
     ]
    }
   ],
   "source": [
    "print \"training_error = %f, val_error = %f\" % (train_error[-1], val_error[-1])"
   ]
  },
  {
   "cell_type": "code",
   "execution_count": 62,
   "metadata": {
    "collapsed": false
   },
   "outputs": [],
   "source": [
    "if 0:\n",
    "    additional_epochs = 25\n",
    "    addn_niter = num_iter_per_epoch * additional_epochs\n",
    "    train_loss_2 = np.append(train_loss, np.zeros(addn_niter))\n",
    "    train_error_2 = np.append(train_error, np.zeros(int(np.ceil(float(addn_niter) / val_interval))))\n",
    "    val_error_2 = np.append(val_error, np.zeros(int(np.ceil(float(addn_niter) / val_interval))))\n",
    "\n",
    "    print \"niter = \", niter\n",
    "    print \"addn_niter = \", addn_niter\n",
    "\n",
    "    for it in range(niter, niter + addn_niter):\n",
    "        solver.step(1)\n",
    "\n",
    "        train_loss_2[it] = solver.net.blobs['loss'].data\n",
    "            \n",
    "        if (it % val_interval) == 0:\n",
    "\n",
    "            val_error_this = 0\n",
    "            for test_it in range(niter_val_error):\n",
    "                solver.test_nets[0].forward()\n",
    "                val_error_this += euclidean_loss(solver.test_nets[0].blobs['score'].data , \n",
    "                                                 solver.test_nets[0].blobs['label'].data) / niter_val_error\n",
    "            val_error_2[it // val_interval] = val_error_this\n",
    "\n",
    "            train_error_this = 0\n",
    "            for test_it in range(niter_train_error):\n",
    "                solver.test_nets[1].forward()\n",
    "                train_error_this += euclidean_loss(solver.test_nets[1].blobs['score'].data , \n",
    "                                                 solver.test_nets[1].blobs['label'].data) / niter_train_error\n",
    "            train_error_2[it // val_interval] = train_error_this\n",
    "\n",
    "\n",
    "            print \"addn_iter = %d, train_loss = %f, train_error = %f, val_error = %f\" % (it, train_loss_2[it], train_error_2[it // val_interval], val_error_2[it // val_interval])"
   ]
  },
  {
   "cell_type": "code",
   "execution_count": 63,
   "metadata": {
    "collapsed": false
   },
   "outputs": [],
   "source": [
    "if 0:\n",
    "    _, ax1 = plt.subplots()\n",
    "    # ax2 = ax1.twinx()\n",
    "    ax1.plot(val_interval * np.arange(len(val_error_2)), train_error_2, label='train_error')\n",
    "    ax1.plot(val_interval * np.arange(len(val_error_2)), val_error_2, 'r', label='val_error')\n",
    "    ax1.legend()\n",
    "    ax1.set_xlabel('iteration')\n",
    "    ax1.set_ylabel('error')\n",
    "    ax1.set_ylim([0,1000])"
   ]
  },
  {
   "cell_type": "code",
   "execution_count": 64,
   "metadata": {
    "collapsed": false
   },
   "outputs": [
    {
     "name": "stdout",
     "output_type": "stream",
     "text": [
      "20204.4064852\n"
     ]
    }
   ],
   "source": [
    "my_net = solver.net\n",
    "train_error_sanity = 0\n",
    "niter_sanity = 10\n",
    "batch_size_used = 128\n",
    "for it in range(niter_sanity):\n",
    "    it_range = range(it*batch_size, it*batch_size+batch_size)\n",
    "    my_net.blobs['data'].data[...] = X_train_clean_cv[it_range]\n",
    "    my_net.forward()\n",
    "    out = my_net.blobs['score'].data\n",
    "    \n",
    "#     train_error += np.sum( (out - y_train_clean_cv[it_range]) ** 2) / float(2* y_train_clean_cv.shape[1])\n",
    "    train_error_sanity += euclidean_loss(out, y_train_clean_cv[it_range])\n",
    "train_error_sanity = train_error_sanity / float(niter_sanity)  \n",
    "\n",
    "print train_error_sanity"
   ]
  },
  {
   "cell_type": "code",
   "execution_count": 65,
   "metadata": {
    "collapsed": false
   },
   "outputs": [
    {
     "name": "stdout",
     "output_type": "stream",
     "text": [
      "20225.2139808\n"
     ]
    }
   ],
   "source": [
    "val_error_sanity = 0\n",
    "niter_sanity = 4\n",
    "batch_size_used = 128\n",
    "for it in range(niter_sanity):\n",
    "    it_range = range(it*batch_size, it*batch_size+batch_size)\n",
    "    my_net.blobs['data'].data[...] = X_val_clean_cv[it_range]\n",
    "    my_net.forward()\n",
    "    out = my_net.blobs['score'].data\n",
    "    \n",
    "#     train_error += np.sum( (out - y_train_clean_cv[it_range]) ** 2) / float(2* y_train_clean_cv.shape[1])\n",
    "    val_error_sanity += euclidean_loss(out, y_val_clean_cv[it_range])\n",
    "val_error_sanity = val_error_sanity / float(niter_sanity)\n",
    "\n",
    "print val_error_sanity"
   ]
  },
  {
   "cell_type": "code",
   "execution_count": null,
   "metadata": {
    "collapsed": true
   },
   "outputs": [],
   "source": []
  }
 ],
 "metadata": {
  "anaconda-cloud": {},
  "kernelspec": {
   "display_name": "Python [default]",
   "language": "python",
   "name": "python2"
  },
  "language_info": {
   "codemirror_mode": {
    "name": "ipython",
    "version": 2
   },
   "file_extension": ".py",
   "mimetype": "text/x-python",
   "name": "python",
   "nbconvert_exporter": "python",
   "pygments_lexer": "ipython2",
   "version": "2.7.12"
  }
 },
 "nbformat": 4,
 "nbformat_minor": 1
}
