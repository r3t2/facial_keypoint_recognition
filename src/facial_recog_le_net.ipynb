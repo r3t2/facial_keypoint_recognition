{
 "cells": [
  {
   "cell_type": "code",
   "execution_count": 60,
   "metadata": {
    "collapsed": false
   },
   "outputs": [],
   "source": [
    "%matplotlib inline\n",
    "import numpy as np\n",
    "\n",
    "caffe_root = '../../../caffe/'\n",
    "\n",
    "import sys\n",
    "sys.path.insert(0, caffe_root + 'python')\n",
    "import caffe"
   ]
  },
  {
   "cell_type": "code",
   "execution_count": 61,
   "metadata": {
    "collapsed": false
   },
   "outputs": [
    {
     "name": "stdout",
     "output_type": "stream",
     "text": [
      "loading ../data/train_data_cleaned.npz\n",
      "loaded:  ['X_val_clean_cv', 'y_val_clean_cv', 'y_train_clean_cv', 'feature_labels', 'X_train_clean_cv']\n",
      "(1640, 1, 96, 96) (1640, 30)\n",
      "(500, 1, 96, 96) (500, 30)\n"
     ]
    }
   ],
   "source": [
    "import os\n",
    "np_loaded_data_file = '../data/train_data_cleaned.npz'\n",
    "if not os.path.isfile(np_loaded_data_file):\n",
    "    print \"%s does not exist. See facial_recog_kaggle.ipynb\" % np_loaded_data_file\n",
    "else:\n",
    "    print \"loading %s\" % np_loaded_data_file\n",
    "    npzfile = np.load(np_loaded_data_file)\n",
    "    print \"loaded: \", npzfile.files\n",
    "    X_train_clean_cv, y_train_clean_cv = npzfile['X_train_clean_cv'], npzfile['y_train_clean_cv']\n",
    "    X_val_clean_cv, y_val_clean_cv = npzfile['X_val_clean_cv'], npzfile['y_val_clean_cv']\n",
    "    feature_labels = npzfile['feature_labels']\n",
    "    print X_train_clean_cv.shape, y_train_clean_cv.shape\n",
    "    print X_val_clean_cv.shape, y_val_clean_cv.shape\n",
    "    "
   ]
  },
  {
   "cell_type": "code",
   "execution_count": 62,
   "metadata": {
    "collapsed": true
   },
   "outputs": [],
   "source": [
    "#Define all params for training\n",
    "batch_size = 128\n",
    "base_learning_rate = 1e-4\n",
    "num_epochs = 100\n",
    "regularization_param = 5e-4\n",
    "td_size = X_train_clean_cv.shape[0]\n",
    "# td_size = 256\n",
    "val_data_size = X_val_clean_cv.shape[0]\n",
    "# val_data_size = 2*batch_size"
   ]
  },
  {
   "cell_type": "code",
   "execution_count": 63,
   "metadata": {
    "collapsed": false
   },
   "outputs": [],
   "source": [
    "from caffe import layers as L, params as P\n",
    "\n",
    "def lenet(hdf5_list, batch_size=64):\n",
    "    # our version of LeNet: a series of linear and simple nonlinear transformations\n",
    "    n = caffe.NetSpec()\n",
    "    \n",
    "    n.data, n.label = L.HDF5Data(batch_size=batch_size, source=hdf5_list, ntop=2)\n",
    "    \n",
    "    n.conv1 = L.Convolution(n.data, kernel_size=5, num_output=20, weight_filler=dict(type='xavier'))\n",
    "    n.relu1 = L.ReLU(n.conv1, in_place=True)\n",
    "    n.pool1 = L.Pooling(n.relu1, kernel_size=2, stride=2, pool=P.Pooling.MAX)\n",
    "    \n",
    "    n.conv2 = L.Convolution(n.pool1, kernel_size=5, num_output=50, weight_filler=dict(type='xavier'))\n",
    "    n.relu2 = L.ReLU(n.conv2, in_place=True)\n",
    "    n.pool2 = L.Pooling(n.relu2, kernel_size=2, stride=2, pool=P.Pooling.MAX)\n",
    "    \n",
    "    n.fc1 =   L.InnerProduct(n.pool2, num_output=500, weight_filler=dict(type='xavier'))\n",
    "    n.relu3 = L.ReLU(n.fc1, in_place=True)\n",
    "    n.score = L.InnerProduct(n.relu3, num_output=30, weight_filler=dict(type='xavier'))\n",
    "    n.loss =  L.EuclideanLoss(n.score, n.label)\n",
    "    \n",
    "    return n.to_proto()\n",
    "\n",
    "train_net_path = 'train_net.prototxt'\n",
    "test_net_path = 'test_net.prototxt'\n",
    "\n",
    "with open(train_net_path, 'w') as f:\n",
    "    f.write(str(lenet(hdf5_list='../data/train_hdf5.list', batch_size=batch_size)))\n",
    "    \n",
    "with open(test_net_path, 'w') as f:\n",
    "    f.write(str(lenet(hdf5_list='../data/test_hdf5.list', batch_size=batch_size)))"
   ]
  },
  {
   "cell_type": "code",
   "execution_count": 64,
   "metadata": {
    "collapsed": false
   },
   "outputs": [],
   "source": [
    "from caffe.proto import caffe_pb2\n",
    "s = caffe_pb2.SolverParameter()\n",
    "\n",
    "# Set a seed for reproducible experiments:\n",
    "# this controls for randomization in training.\n",
    "s.random_seed = 0xCAFFE\n",
    "\n",
    "# Specify locations of the train and (maybe) test networks.\n",
    "s.train_net = train_net_path\n",
    "\n",
    "s.test_net.append(test_net_path)\n",
    "s.test_iter.append(1) # Test on 100 batches each time we test.\n",
    "\n",
    "s.test_net.append(train_net_path)\n",
    "s.test_iter.append(1) # Test on 100 batches each time we test.\n",
    "\n",
    "\n",
    "s.test_interval = 1000000  # Test after every 500 training iterations.\n",
    "\n",
    "\n",
    "s.max_iter = 10000     # no. of times to update the net (training iterations)\n",
    " \n",
    "# EDIT HERE to try different solvers\n",
    "# solver types include \"SGD\", \"Adam\", and \"Nesterov\" among others.\n",
    "s.type = \"Adam\"\n",
    "\n",
    "# Set the initial learning rate for SGD.\n",
    "s.base_lr = base_learning_rate  # EDIT HERE to try different learning rates\n",
    "# Set momentum to accelerate learning by\n",
    "# taking weighted average of current and previous updates.\n",
    "s.momentum = 0.9\n",
    "# Set weight decay to regularize and prevent overfitting\n",
    "s.weight_decay = regularization_param\n",
    "\n",
    "# Set `lr_policy` to define how the learning rate changes during training.\n",
    "# This is the same policy as our default LeNet.\n",
    "s.lr_policy = 'inv'\n",
    "s.gamma = 0.0001\n",
    "s.power = 0.75\n",
    "# EDIT HERE to try the fixed rate (and compare with adaptive solvers)\n",
    "# `fixed` is the simplest policy that keeps the learning rate constant.\n",
    "# s.lr_policy = 'fixed'\n",
    "\n",
    "# Display the current training loss and accuracy every 1000 iterations.\n",
    "s.display = 2\n",
    "\n",
    "# Snapshots are files used to store networks we've trained.\n",
    "# We'll snapshot every 5K iterations -- twice during training.\n",
    "s.snapshot = 1000000\n",
    "s.snapshot_prefix = 'lenet_'\n",
    "\n",
    "s.snapshot_after_train = True\n",
    "\n",
    "# Train on the GPU\n",
    "s.solver_mode = caffe_pb2.SolverParameter.CPU\n",
    "\n",
    "\n",
    "solver_config_fname = 'lenet_solver.prototxt'\n",
    "# Write the solver to a temporary file and return its filename.\n",
    "with open(solver_config_fname, 'w') as f:\n",
    "    f.write(str(s))"
   ]
  },
  {
   "cell_type": "code",
   "execution_count": 65,
   "metadata": {
    "collapsed": false
   },
   "outputs": [
    {
     "name": "stdout",
     "output_type": "stream",
     "text": [
      "CPU times: user 5.36 s, sys: 116 ms, total: 5.48 s\n",
      "Wall time: 5.48 s\n"
     ]
    }
   ],
   "source": [
    "%%time\n",
    "\n",
    "import h5py\n",
    "f = h5py.File('../data/train_data_lenet.hd5', 'w')\n",
    "f.create_dataset('data', data=X_train_clean_cv[0:td_size], compression='gzip', compression_opts=4)\n",
    "f.create_dataset('label', data=y_train_clean_cv[0:td_size], compression='gzip', compression_opts=4)\n",
    "f.close()\n",
    "\n",
    "f = h5py.File('../data/test_data_lenet.hd5', 'w')\n",
    "f.create_dataset('data', data=X_val_clean_cv, compression='gzip', compression_opts=4)\n",
    "f.create_dataset('label', data=y_val_clean_cv, compression='gzip', compression_opts=4)\n",
    "f.close()\n",
    "\n",
    "\n",
    "\n",
    "solver = None\n",
    "solver = caffe.get_solver(solver_config_fname)"
   ]
  },
  {
   "cell_type": "code",
   "execution_count": 66,
   "metadata": {
    "collapsed": false
   },
   "outputs": [
    {
     "name": "stdout",
     "output_type": "stream",
     "text": [
      "CPU times: user 13.1 s, sys: 392 ms, total: 13.5 s\n",
      "Wall time: 7.19 s\n"
     ]
    }
   ],
   "source": [
    "%%time\n",
    "solver.step(1)"
   ]
  },
  {
   "cell_type": "code",
   "execution_count": 67,
   "metadata": {
    "collapsed": false
   },
   "outputs": [
    {
     "name": "stdout",
     "output_type": "stream",
     "text": [
      "CPU times: user 5.88 s, sys: 56 ms, total: 5.94 s\n",
      "Wall time: 3.4 s\n"
     ]
    }
   ],
   "source": [
    "%%time\n",
    "solver.step(1)"
   ]
  },
  {
   "cell_type": "code",
   "execution_count": 68,
   "metadata": {
    "collapsed": false
   },
   "outputs": [
    {
     "name": "stdout",
     "output_type": "stream",
     "text": [
      "CPU times: user 0 ns, sys: 0 ns, total: 0 ns\n",
      "Wall time: 13.1 µs\n"
     ]
    }
   ],
   "source": [
    "%%time\n",
    "# solver.step(10)"
   ]
  },
  {
   "cell_type": "code",
   "execution_count": 69,
   "metadata": {
    "collapsed": false
   },
   "outputs": [
    {
     "name": "stdout",
     "output_type": "stream",
     "text": [
      "CPU times: user 0 ns, sys: 0 ns, total: 0 ns\n",
      "Wall time: 19.1 µs\n"
     ]
    }
   ],
   "source": [
    "%%time\n",
    "if 0:\n",
    "    td_size = 1\n",
    "    f = h5py.File('../data/train_data_lenet.hd5', 'w')\n",
    "    f.create_dataset('data', data=X_train_clean_cv[0:td_size], compression='gzip', compression_opts=4)\n",
    "    f.create_dataset('label', data=y_train_clean_cv[0:td_size], compression='gzip', compression_opts=4)\n",
    "    f.close()\n",
    "\n",
    "    solver = None\n",
    "    solver = caffe.get_solver(solver_config_fname)\n",
    "\n",
    "    num_epochs = 100\n",
    "    num_iter_per_epoch = int(np.ceil(float(td_size) / batch_size))\n",
    "    niter = num_iter_per_epoch * num_epochs\n",
    "\n",
    "    #val_data_size = X_val_clean_cv.shape[0]\n",
    "    val_data_size = 4*batch_size\n",
    "\n",
    "    print \"td_size = %d\" % td_size\n",
    "    print \"niter = %d\" % niter\n",
    "\n",
    "    solver.step(niter)\n",
    "\n",
    "    train_error_check = solver.net.blobs['loss'].data\n",
    "\n",
    "    print \"testing...\"\n",
    "\n",
    "    val_error = 0\n",
    "    val_error_check = 0\n",
    "    niter_val = int(np.ceil( float(val_data_size) / batch_size))\n",
    "    for test_it in range(niter_val):\n",
    "        solver.test_nets[0].forward()\n",
    "        val_error += np.sum( (solver.test_nets[0].blobs['score'].data -\n",
    "                             solver.test_nets[0].blobs['label'].data) ** 2) / (2 * float(val_data_size))\n",
    "        val_error_check += solver.test_nets[0].blobs['loss'].data / niter_val\n",
    "\n",
    "\n",
    "    train_error = 0\n",
    "    for test_it in range(num_iter_per_epoch):\n",
    "        solver.test_nets[1].forward()\n",
    "        train_error += np.sum( (solver.test_nets[1].blobs['score'].data -\n",
    "                             solver.test_nets[1].blobs['label'].data) ** 2) / (2 * float(num_iter_per_epoch * batch_size))\n",
    "\n",
    "    print \"train_error = %f, train_error_check = %f, \\\n",
    "    val_error = %f, val_error_check = %f\" % \\\n",
    "            (train_error, train_error_check, val_error, val_error_check)"
   ]
  },
  {
   "cell_type": "code",
   "execution_count": 70,
   "metadata": {
    "collapsed": false,
    "scrolled": true
   },
   "outputs": [
    {
     "name": "stdout",
     "output_type": "stream",
     "text": [
      "td_size = 1640\n",
      "niter = 1300\n",
      "val_interval = 13\n",
      "it = 0, train_error = 47729.621094, val_error = 32176.650391\n",
      "it = 13, train_error = 2912.139648, val_error = 2672.151306\n",
      "it = 26, train_error = 1702.012573, val_error = 1537.114777\n",
      "it = 39, train_error = 1428.376099, val_error = 1165.164490\n",
      "it = 52, train_error = 1195.271240, val_error = 1003.714630\n",
      "it = 65, train_error = 1008.609985, val_error = 898.806931\n",
      "it = 78, train_error = 799.982971, val_error = 831.246124\n",
      "it = 91, train_error = 646.980957, val_error = 779.351471\n",
      "it = 104, train_error = 521.101807, val_error = 746.823135\n",
      "it = 117, train_error = 489.674713, val_error = 707.982315\n",
      "it = 130, train_error = 432.167908, val_error = 678.523544\n",
      "it = 143, train_error = 417.156433, val_error = 670.333038\n",
      "it = 156, train_error = 458.099884, val_error = 645.390793\n",
      "it = 169, train_error = 456.709961, val_error = 623.273964\n",
      "it = 182, train_error = 456.132416, val_error = 602.690018\n",
      "it = 195, train_error = 430.155884, val_error = 602.235840\n",
      "it = 208, train_error = 408.772766, val_error = 572.945114\n",
      "it = 221, train_error = 390.845825, val_error = 559.892822\n",
      "it = 234, train_error = 312.200195, val_error = 552.367325\n",
      "it = 247, train_error = 293.626190, val_error = 541.866837\n",
      "it = 260, train_error = 300.331329, val_error = 540.667877\n",
      "it = 273, train_error = 295.548096, val_error = 547.684616\n",
      "it = 286, train_error = 264.033630, val_error = 538.135918\n",
      "it = 299, train_error = 251.441223, val_error = 523.086792\n",
      "it = 312, train_error = 235.774689, val_error = 516.800545\n",
      "it = 325, train_error = 222.760681, val_error = 514.114830\n",
      "it = 338, train_error = 230.198364, val_error = 518.085258\n",
      "it = 351, train_error = 205.025955, val_error = 512.780998\n",
      "it = 364, train_error = 220.084244, val_error = 516.386765\n",
      "it = 377, train_error = 206.768875, val_error = 513.903687\n",
      "it = 390, train_error = 198.403397, val_error = 511.573273\n",
      "it = 403, train_error = 163.607101, val_error = 502.398880\n",
      "it = 416, train_error = 144.074402, val_error = 512.152115\n",
      "it = 429, train_error = 121.368423, val_error = 503.303368\n",
      "it = 442, train_error = 123.069916, val_error = 530.560829\n",
      "it = 455, train_error = 125.112595, val_error = 543.116653\n",
      "it = 468, train_error = 144.138031, val_error = 537.150993\n",
      "it = 481, train_error = 138.499329, val_error = 548.267220\n",
      "it = 494, train_error = 153.349060, val_error = 553.201729\n",
      "it = 507, train_error = 142.689072, val_error = 568.241058\n",
      "it = 520, train_error = 142.772766, val_error = 625.886978\n",
      "it = 533, train_error = 149.823090, val_error = 605.740662\n",
      "it = 546, train_error = 168.585709, val_error = 610.946350\n",
      "it = 559, train_error = 247.947006, val_error = 655.941727\n",
      "it = 572, train_error = 249.544708, val_error = 820.336563\n",
      "it = 585, train_error = 231.327393, val_error = 766.282211\n",
      "it = 598, train_error = 493.714478, val_error = 622.380341\n",
      "it = 611, train_error = 388.039185, val_error = 828.082962\n",
      "it = 624, train_error = 344.157501, val_error = 545.374100\n",
      "it = 637, train_error = 346.537628, val_error = 534.214432\n",
      "it = 650, train_error = 189.795166, val_error = 515.247833\n",
      "it = 663, train_error = 121.951759, val_error = 482.345581\n",
      "it = 676, train_error = 92.552605, val_error = 480.192177\n",
      "it = 689, train_error = 89.063049, val_error = 498.267647\n",
      "it = 702, train_error = 78.326973, val_error = 481.503395\n",
      "it = 715, train_error = 95.580658, val_error = 492.736908\n",
      "it = 728, train_error = 96.978310, val_error = 503.267197\n",
      "it = 741, train_error = 94.323868, val_error = 502.700684\n",
      "it = 754, train_error = 86.446739, val_error = 498.651527\n",
      "it = 767, train_error = 81.186981, val_error = 503.969566\n",
      "it = 780, train_error = 70.724548, val_error = 493.476967\n",
      "it = 793, train_error = 59.998184, val_error = 506.033661\n",
      "it = 806, train_error = 50.634068, val_error = 490.261658\n",
      "it = 819, train_error = 47.973873, val_error = 511.971664\n",
      "it = 832, train_error = 47.247967, val_error = 499.204285\n",
      "it = 845, train_error = 48.590988, val_error = 485.335831\n",
      "it = 858, train_error = 44.018852, val_error = 482.207176\n",
      "it = 871, train_error = 69.823975, val_error = 481.413895\n",
      "it = 884, train_error = 71.270828, val_error = 492.361145\n",
      "it = 897, train_error = 86.388351, val_error = 487.693275\n",
      "it = 910, train_error = 84.730858, val_error = 479.810379\n",
      "it = 923, train_error = 83.130890, val_error = 482.066132\n",
      "it = 936, train_error = 56.680412, val_error = 483.215485\n",
      "it = 949, train_error = 54.651623, val_error = 478.193710\n",
      "it = 962, train_error = 47.348118, val_error = 489.969864\n",
      "it = 975, train_error = 34.328926, val_error = 485.159386\n",
      "it = 988, train_error = 32.358063, val_error = 492.476273\n",
      "it = 1001, train_error = 32.752274, val_error = 489.994118\n",
      "it = 1014, train_error = 31.506676, val_error = 498.380974\n",
      "it = 1027, train_error = 31.219990, val_error = 511.071167\n",
      "it = 1040, train_error = 33.092026, val_error = 505.955826\n",
      "it = 1053, train_error = 45.232155, val_error = 512.506485\n",
      "it = 1066, train_error = 43.592888, val_error = 548.173164\n",
      "it = 1079, train_error = 43.203476, val_error = 541.840652\n",
      "it = 1092, train_error = 42.960239, val_error = 539.790848\n",
      "it = 1105, train_error = 40.163345, val_error = 579.508789\n",
      "it = 1118, train_error = 32.898098, val_error = 571.786285\n",
      "it = 1131, train_error = 37.204681, val_error = 603.944855\n",
      "it = 1144, train_error = 46.544872, val_error = 626.767334\n",
      "it = 1157, train_error = 54.642059, val_error = 666.306808\n",
      "it = 1170, train_error = 101.933571, val_error = 708.872391\n",
      "it = 1183, train_error = 165.655533, val_error = 851.373413\n",
      "it = 1196, train_error = 123.851227, val_error = 1100.656387\n",
      "it = 1209, train_error = 175.547150, val_error = 817.542282\n",
      "it = 1222, train_error = 714.242493, val_error = 578.102646\n",
      "it = 1235, train_error = 140.421173, val_error = 586.120697\n",
      "it = 1248, train_error = 70.686020, val_error = 528.304169\n",
      "it = 1261, train_error = 128.214264, val_error = 478.403038\n",
      "it = 1274, train_error = 77.075554, val_error = 486.602982\n",
      "it = 1287, train_error = 43.445293, val_error = 496.528984\n",
      "CPU times: user 2h 20min 46s, sys: 1min 23s, total: 2h 22min 10s\n",
      "Wall time: 1h 19min 43s\n"
     ]
    }
   ],
   "source": [
    "%%time\n",
    "\n",
    "f = h5py.File('../data/train_data_lenet.hd5', 'w')\n",
    "f.create_dataset('data', data=X_train_clean_cv[0:td_size], compression='gzip', compression_opts=4)\n",
    "f.create_dataset('label', data=y_train_clean_cv[0:td_size], compression='gzip', compression_opts=4)\n",
    "f.close()\n",
    "\n",
    "solver = None\n",
    "solver = caffe.get_solver(solver_config_fname)\n",
    "\n",
    "\n",
    "num_iter_per_epoch = int(np.ceil(float(td_size) / batch_size))\n",
    "niter = num_iter_per_epoch * num_epochs\n",
    "\n",
    "\n",
    "niter_val = int(np.ceil( float(val_data_size) / batch_size))\n",
    "val_interval = num_iter_per_epoch\n",
    "\n",
    "print \"td_size = %d\" % td_size\n",
    "print \"niter = %d\" % niter\n",
    "print \"val_interval = %d\" % val_interval\n",
    "train_error = np.zeros(niter)\n",
    "val_error = np.zeros( int(np.ceil(float(niter) / val_interval)))\n",
    "\n",
    "for it in range(niter):\n",
    "    solver.step(1)\n",
    "    \n",
    "    train_error[it] = solver.net.blobs['loss'].data\n",
    "    \n",
    "    if (it % val_interval) == 0:\n",
    "        \n",
    "        val_error_this = 0\n",
    "        for test_it in range(niter_val):\n",
    "            solver.test_nets[0].forward()\n",
    "            val_error_this += solver.test_nets[0].blobs['loss'].data / niter_val\n",
    "        \n",
    "        val_error[it // val_interval] = val_error_this\n",
    "        \n",
    "        print \"it = %d, train_error = %f, val_error = %f\" % (it, train_error[it], val_error[it // val_interval])\n",
    "\n",
    "solver.net.save('lenet_trained.caffemodel')"
   ]
  },
  {
   "cell_type": "code",
   "execution_count": 74,
   "metadata": {
    "collapsed": false
   },
   "outputs": [
    {
     "data": {
      "text/plain": [
       "(0, 1000)"
      ]
     },
     "execution_count": 74,
     "metadata": {},
     "output_type": "execute_result"
    },
    {
     "data": {
      "image/png": "[encoded data removed]",
      "text/plain": [
       "<matplotlib.figure.Figure at 0x7fd4b0569ad0>"
      ]
     },
     "metadata": {},
     "output_type": "display_data"
    }
   ],
   "source": [
    "import matplotlib.pyplot as plt\n",
    "\n",
    "_, ax1 = plt.subplots()\n",
    "# ax2 = ax1.twinx()\n",
    "ax1.plot(range(niter), train_error, label='train_error')\n",
    "ax1.plot(val_interval * np.arange(len(val_error)), val_error, 'r', label='val_error')\n",
    "ax1.legend()\n",
    "ax1.set_xlabel('iteration')\n",
    "ax1.set_ylabel('error')\n",
    "ax1.set_ylim([0,1000])"
   ]
  },
  {
   "cell_type": "code",
   "execution_count": 72,
   "metadata": {
    "collapsed": false
   },
   "outputs": [
    {
     "name": "stdout",
     "output_type": "stream",
     "text": [
      "training_error = 54.747070, val_error = 496.528984\n"
     ]
    }
   ],
   "source": [
    "print \"training_error = %f, val_error = %f\" % (train_error[-1], val_error[-1])"
   ]
  },
  {
   "cell_type": "code",
   "execution_count": 78,
   "metadata": {
    "collapsed": false
   },
   "outputs": [
    {
     "name": "stdout",
     "output_type": "stream",
     "text": [
      "niter =  1300\n",
      "addn_iter = 1300, train_error = 43.764381, val_error = 531.536758\n",
      "addn_iter = 1313, train_error = 43.742908, val_error = 531.413147\n",
      "addn_iter = 1326, train_error = 43.062607, val_error = 524.079254\n",
      "addn_iter = 1339, train_error = 44.495289, val_error = 528.772644\n",
      "addn_iter = 1352, train_error = 44.608719, val_error = 541.686676\n",
      "addn_iter = 1365, train_error = 44.588062, val_error = 526.884140\n",
      "addn_iter = 1378, train_error = 45.276302, val_error = 527.405182\n",
      "addn_iter = 1391, train_error = 44.559738, val_error = 518.757599\n",
      "addn_iter = 1404, train_error = 45.077229, val_error = 517.126884\n",
      "addn_iter = 1417, train_error = 45.040794, val_error = 533.374344\n",
      "addn_iter = 1430, train_error = 43.213749, val_error = 520.258545\n",
      "addn_iter = 1443, train_error = 43.124233, val_error = 529.010345\n",
      "addn_iter = 1456, train_error = 39.363823, val_error = 522.725044\n",
      "addn_iter = 1469, train_error = 37.144699, val_error = 522.803650\n",
      "addn_iter = 1482, train_error = 36.381329, val_error = 513.664291\n",
      "addn_iter = 1495, train_error = 33.946484, val_error = 511.194061\n",
      "addn_iter = 1508, train_error = 35.254932, val_error = 499.661568\n",
      "addn_iter = 1521, train_error = 35.106804, val_error = 504.152870\n",
      "addn_iter = 1534, train_error = 40.069920, val_error = 505.483772\n",
      "addn_iter = 1547, train_error = 39.866341, val_error = 495.990288\n",
      "addn_iter = 1560, train_error = 39.718063, val_error = 501.456017\n",
      "addn_iter = 1573, train_error = 38.135674, val_error = 514.083694\n",
      "addn_iter = 1586, train_error = 36.614727, val_error = 494.656158\n",
      "addn_iter = 1599, train_error = 34.811062, val_error = 490.876144\n",
      "addn_iter = 1612, train_error = 33.180809, val_error = 516.182678\n",
      "addn_iter = 1625, train_error = 33.165436, val_error = 498.534821\n",
      "addn_iter = 1638, train_error = 32.799553, val_error = 496.978691\n",
      "addn_iter = 1651, train_error = 32.892448, val_error = 496.273918\n",
      "addn_iter = 1664, train_error = 34.277145, val_error = 493.812935\n",
      "addn_iter = 1677, train_error = 36.049755, val_error = 496.331947\n",
      "addn_iter = 1690, train_error = 44.495407, val_error = 495.619530\n",
      "addn_iter = 1703, train_error = 47.457687, val_error = 494.004494\n",
      "addn_iter = 1716, train_error = 53.242828, val_error = 489.722588\n",
      "addn_iter = 1729, train_error = 55.555008, val_error = 502.324097\n",
      "addn_iter = 1742, train_error = 59.716324, val_error = 497.511131\n",
      "addn_iter = 1755, train_error = 57.926971, val_error = 494.317329\n",
      "addn_iter = 1768, train_error = 64.589775, val_error = 502.753159\n",
      "addn_iter = 1781, train_error = 74.975716, val_error = 515.578430\n",
      "addn_iter = 1794, train_error = 85.235199, val_error = 509.579994\n",
      "addn_iter = 1807, train_error = 101.245880, val_error = 518.855499\n",
      "addn_iter = 1820, train_error = 111.379272, val_error = 545.493134\n",
      "addn_iter = 1833, train_error = 117.940094, val_error = 551.613808\n",
      "addn_iter = 1846, train_error = 114.224594, val_error = 567.958237\n",
      "addn_iter = 1859, train_error = 112.566238, val_error = 566.785172\n",
      "addn_iter = 1872, train_error = 114.749756, val_error = 563.882324\n",
      "addn_iter = 1885, train_error = 126.258415, val_error = 569.107430\n",
      "addn_iter = 1898, train_error = 135.463501, val_error = 595.972305\n",
      "addn_iter = 1911, train_error = 131.266113, val_error = 600.329559\n",
      "addn_iter = 1924, train_error = 108.918877, val_error = 595.124763\n",
      "addn_iter = 1937, train_error = 81.288559, val_error = 580.759827\n"
     ]
    }
   ],
   "source": [
    "additional_epochs = 50\n",
    "addn_niter = num_iter_per_epoch * additional_epochs\n",
    "train_error_2 = np.append(train_error, np.zeros(addn_niter))\n",
    "val_error_2 = np.append(val_error, np.zeros(int(np.ceil(float(addn_niter) / val_interval))))\n",
    "\n",
    "print \"niter = \", niter\n",
    "                        \n",
    "for it in range(niter, niter + addn_niter):\n",
    "    solver.step(1)\n",
    "    \n",
    "    train_error_2[it] = solver.net.blobs['loss'].data\n",
    "    \n",
    "    if (it % val_interval) == 0:\n",
    "        \n",
    "        val_error_this = 0\n",
    "        for test_it in range(niter_val):\n",
    "            solver.test_nets[0].forward()\n",
    "            val_error_this += solver.test_nets[0].blobs['loss'].data / niter_val\n",
    "        \n",
    "        val_error_2[it // val_interval] = val_error_this\n",
    "        \n",
    "        print \"addn_iter = %d, train_error = %f, val_error = %f\" % (it, train_error_2[it], val_error_2[it // val_interval])"
   ]
  },
  {
   "cell_type": "code",
   "execution_count": 79,
   "metadata": {
    "collapsed": false
   },
   "outputs": [
    {
     "data": {
      "text/plain": [
       "(0, 1000)"
      ]
     },
     "execution_count": 79,
     "metadata": {},
     "output_type": "execute_result"
    },
    {
     "data": {
      "image/png": "[encoded data removed]",
      "text/plain": [
       "<matplotlib.figure.Figure at 0x7fd4a6a2d4d0>"
      ]
     },
     "metadata": {},
     "output_type": "display_data"
    }
   ],
   "source": [
    "_, ax1 = plt.subplots()\n",
    "# ax2 = ax1.twinx()\n",
    "ax1.plot(range(len(train_error_2)), train_error_2, label='train_error')\n",
    "ax1.plot(val_interval * np.arange(len(val_error_2)), val_error_2, 'r', label='val_error')\n",
    "ax1.legend()\n",
    "ax1.set_xlabel('iteration')\n",
    "ax1.set_ylabel('error')\n",
    "ax1.set_ylim([0,1000])"
   ]
  },
  {
   "cell_type": "code",
   "execution_count": null,
   "metadata": {
    "collapsed": true
   },
   "outputs": [],
   "source": []
  }
 ],
 "metadata": {
  "anaconda-cloud": {},
  "kernelspec": {
   "display_name": "Python [default]",
   "language": "python",
   "name": "python2"
  },
  "language_info": {
   "codemirror_mode": {
    "name": "ipython",
    "version": 2
   },
   "file_extension": ".py",
   "mimetype": "text/x-python",
   "name": "python",
   "nbconvert_exporter": "python",
   "pygments_lexer": "ipython2",
   "version": "2.7.12"
  }
 },
 "nbformat": 4,
 "nbformat_minor": 1
}
