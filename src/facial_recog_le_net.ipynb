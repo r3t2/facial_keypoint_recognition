{
 "cells": [
  {
   "cell_type": "code",
   "execution_count": 107,
   "metadata": {
    "collapsed": false
   },
   "outputs": [],
   "source": [
    "%matplotlib inline\n",
    "import numpy as np\n",
    "\n",
    "caffe_root = '../../../caffe/'\n",
    "\n",
    "import sys\n",
    "sys.path.insert(0, caffe_root + 'python')\n",
    "import caffe"
   ]
  },
  {
   "cell_type": "code",
   "execution_count": 108,
   "metadata": {
    "collapsed": false
   },
   "outputs": [
    {
     "name": "stdout",
     "output_type": "stream",
     "text": [
      "loading ../data/train_data_cleaned.npz\n",
      "loaded:  ['X_val_clean_cv', 'y_val_clean_cv', 'y_train_clean_cv', 'feature_labels', 'X_train_clean_cv']\n",
      "(1628, 1, 96, 96) (1628, 30)\n",
      "(512, 1, 96, 96) (512, 30)\n"
     ]
    }
   ],
   "source": [
    "import os\n",
    "np_loaded_data_file = '../data/train_data_cleaned.npz'\n",
    "if not os.path.isfile(np_loaded_data_file):\n",
    "    print \"%s does not exist. See facial_recog_kaggle.ipynb\" % np_loaded_data_file\n",
    "else:\n",
    "    print \"loading %s\" % np_loaded_data_file\n",
    "    npzfile = np.load(np_loaded_data_file)\n",
    "    print \"loaded: \", npzfile.files\n",
    "    X_train_clean_cv, y_train_clean_cv = npzfile['X_train_clean_cv'], npzfile['y_train_clean_cv']\n",
    "    X_val_clean_cv, y_val_clean_cv = npzfile['X_val_clean_cv'], npzfile['y_val_clean_cv']\n",
    "    feature_labels = npzfile['feature_labels']\n",
    "    print X_train_clean_cv.shape, y_train_clean_cv.shape\n",
    "    print X_val_clean_cv.shape, y_val_clean_cv.shape\n",
    "    "
   ]
  },
  {
   "cell_type": "code",
   "execution_count": 109,
   "metadata": {
    "collapsed": true
   },
   "outputs": [],
   "source": [
    "#Define all params for training\n",
    "batch_size = 128\n",
    "base_learning_rate = 5.411695e-03\n",
    "num_epochs = 100\n",
    "regularization_param = 4.641589e-03\n",
    "td_size = X_train_clean_cv.shape[0]\n",
    "# td_size = 256\n",
    "val_data_size = X_val_clean_cv.shape[0]\n",
    "# val_data_size = 2*batch_size"
   ]
  },
  {
   "cell_type": "code",
   "execution_count": 110,
   "metadata": {
    "collapsed": false
   },
   "outputs": [],
   "source": [
    "from caffe import layers as L, params as P\n",
    "\n",
    "def lenet(hdf5_list, batch_size=64):\n",
    "    # our version of LeNet: a series of linear and simple nonlinear transformations\n",
    "    n = caffe.NetSpec()\n",
    "    \n",
    "    n.data, n.label = L.HDF5Data(batch_size=batch_size, source=hdf5_list, ntop=2)\n",
    "    \n",
    "    n.conv1 = L.Convolution(n.data, kernel_size=5, num_output=20, weight_filler=dict(type='xavier'))\n",
    "    n.relu1 = L.ReLU(n.conv1, in_place=True)\n",
    "    n.pool1 = L.Pooling(n.relu1, kernel_size=2, stride=2, pool=P.Pooling.MAX)\n",
    "    \n",
    "    n.conv2 = L.Convolution(n.pool1, kernel_size=5, num_output=50, weight_filler=dict(type='xavier'))\n",
    "    n.relu2 = L.ReLU(n.conv2, in_place=True)\n",
    "    n.pool2 = L.Pooling(n.relu2, kernel_size=2, stride=2, pool=P.Pooling.MAX)\n",
    "    \n",
    "    n.fc1 =   L.InnerProduct(n.pool2, num_output=500, weight_filler=dict(type='xavier'))\n",
    "    n.relu3 = L.ReLU(n.fc1, in_place=True)\n",
    "    n.score = L.InnerProduct(n.relu3, num_output=30, weight_filler=dict(type='xavier'))\n",
    "    n.loss =  L.EuclideanLoss(n.score, n.label)\n",
    "    \n",
    "    return n.to_proto()\n",
    "\n",
    "train_net_path = 'train_net.prototxt'\n",
    "test_net_path = 'test_net.prototxt'\n",
    "\n",
    "with open(train_net_path, 'w') as f:\n",
    "    f.write(str(lenet(hdf5_list='../data/train_hdf5.list', batch_size=batch_size)))\n",
    "    \n",
    "with open(test_net_path, 'w') as f:\n",
    "    f.write(str(lenet(hdf5_list='../data/test_hdf5.list', batch_size=batch_size)))"
   ]
  },
  {
   "cell_type": "code",
   "execution_count": 111,
   "metadata": {
    "collapsed": false
   },
   "outputs": [],
   "source": [
    "from caffe.proto import caffe_pb2\n",
    "s = caffe_pb2.SolverParameter()\n",
    "\n",
    "# Set a seed for reproducible experiments:\n",
    "# this controls for randomization in training.\n",
    "s.random_seed = 0xCAFFE\n",
    "\n",
    "# Specify locations of the train and (maybe) test networks.\n",
    "s.train_net = train_net_path\n",
    "\n",
    "s.test_net.append(test_net_path)\n",
    "s.test_iter.append(1) # Test on 100 batches each time we test.\n",
    "\n",
    "s.test_net.append(train_net_path)\n",
    "s.test_iter.append(1) # Test on 100 batches each time we test.\n",
    "\n",
    "\n",
    "s.test_interval = 1000000  # Test after every 500 training iterations.\n",
    "\n",
    "\n",
    "s.max_iter = 10000     # no. of times to update the net (training iterations)\n",
    " \n",
    "# EDIT HERE to try different solvers\n",
    "# solver types include \"SGD\", \"Adam\", and \"Nesterov\" among others.\n",
    "s.type = \"Adam\"\n",
    "\n",
    "# Set the initial learning rate for SGD.\n",
    "s.base_lr = base_learning_rate  # EDIT HERE to try different learning rates\n",
    "# Set momentum to accelerate learning by\n",
    "# taking weighted average of current and previous updates.\n",
    "s.momentum = 0.9\n",
    "# Set weight decay to regularize and prevent overfitting\n",
    "s.weight_decay = regularization_param\n",
    "\n",
    "# Set `lr_policy` to define how the learning rate changes during training.\n",
    "# This is the same policy as our default LeNet.\n",
    "s.lr_policy = 'inv'\n",
    "s.gamma = 0.01\n",
    "s.power = 0.5\n",
    "# EDIT HERE to try the fixed rate (and compare with adaptive solvers)\n",
    "# `fixed` is the simplest policy that keeps the learning rate constant.\n",
    "# s.lr_policy = 'fixed'\n",
    "\n",
    "# Display the current training loss and accuracy every 1000 iterations.\n",
    "s.display = 2\n",
    "\n",
    "# Snapshots are files used to store networks we've trained.\n",
    "# We'll snapshot every 5K iterations -- twice during training.\n",
    "s.snapshot = 1000000\n",
    "s.snapshot_prefix = 'lenet_'\n",
    "\n",
    "s.snapshot_after_train = True\n",
    "\n",
    "# Train on the GPU\n",
    "s.solver_mode = caffe_pb2.SolverParameter.CPU\n",
    "\n",
    "\n",
    "solver_config_fname = 'lenet_solver.prototxt'\n",
    "# Write the solver to a temporary file and return its filename.\n",
    "with open(solver_config_fname, 'w') as f:\n",
    "    f.write(str(s))"
   ]
  },
  {
   "cell_type": "code",
   "execution_count": 112,
   "metadata": {
    "collapsed": false
   },
   "outputs": [
    {
     "name": "stdout",
     "output_type": "stream",
     "text": [
      "CPU times: user 5.51 s, sys: 329 ms, total: 5.84 s\n",
      "Wall time: 12.8 s\n"
     ]
    }
   ],
   "source": [
    "%%time\n",
    "\n",
    "import h5py\n",
    "f = h5py.File('../data/train_data_lenet.hd5', 'w')\n",
    "f.create_dataset('data', data=X_train_clean_cv[0:td_size], compression='gzip', compression_opts=4)\n",
    "f.create_dataset('label', data=y_train_clean_cv[0:td_size], compression='gzip', compression_opts=4)\n",
    "f.close()\n",
    "\n",
    "f = h5py.File('../data/test_data_lenet.hd5', 'w')\n",
    "f.create_dataset('data', data=X_val_clean_cv, compression='gzip', compression_opts=4)\n",
    "f.create_dataset('label', data=y_val_clean_cv, compression='gzip', compression_opts=4)\n",
    "f.close()\n",
    "\n",
    "\n",
    "\n",
    "solver = None\n",
    "solver = caffe.get_solver(solver_config_fname)"
   ]
  },
  {
   "cell_type": "code",
   "execution_count": 113,
   "metadata": {
    "collapsed": false
   },
   "outputs": [
    {
     "name": "stdout",
     "output_type": "stream",
     "text": [
      "CPU times: user 11.4 s, sys: 853 ms, total: 12.2 s\n",
      "Wall time: 13.7 s\n"
     ]
    }
   ],
   "source": [
    "%%time\n",
    "solver.step(1)"
   ]
  },
  {
   "cell_type": "code",
   "execution_count": 114,
   "metadata": {
    "collapsed": false
   },
   "outputs": [
    {
     "name": "stdout",
     "output_type": "stream",
     "text": [
      "CPU times: user 6.54 s, sys: 60 ms, total: 6.6 s\n",
      "Wall time: 3.84 s\n"
     ]
    }
   ],
   "source": [
    "%%time\n",
    "solver.step(1)"
   ]
  },
  {
   "cell_type": "code",
   "execution_count": 115,
   "metadata": {
    "collapsed": false
   },
   "outputs": [
    {
     "name": "stdout",
     "output_type": "stream",
     "text": [
      "CPU times: user 0 ns, sys: 0 ns, total: 0 ns\n",
      "Wall time: 7.15 µs\n"
     ]
    }
   ],
   "source": [
    "%%time\n",
    "# solver.step(10)"
   ]
  },
  {
   "cell_type": "code",
   "execution_count": 116,
   "metadata": {
    "collapsed": false
   },
   "outputs": [
    {
     "name": "stdout",
     "output_type": "stream",
     "text": [
      "CPU times: user 0 ns, sys: 0 ns, total: 0 ns\n",
      "Wall time: 11.9 µs\n"
     ]
    }
   ],
   "source": [
    "%%time\n",
    "if 0:\n",
    "    td_size = 1\n",
    "    f = h5py.File('../data/train_data_lenet.hd5', 'w')\n",
    "    f.create_dataset('data', data=X_train_clean_cv[0:td_size], compression='gzip', compression_opts=4)\n",
    "    f.create_dataset('label', data=y_train_clean_cv[0:td_size], compression='gzip', compression_opts=4)\n",
    "    f.close()\n",
    "\n",
    "    solver = None\n",
    "    solver = caffe.get_solver(solver_config_fname)\n",
    "\n",
    "    num_epochs = 100\n",
    "    num_iter_per_epoch = int(np.ceil(float(td_size) / batch_size))\n",
    "    niter = num_iter_per_epoch * num_epochs\n",
    "\n",
    "    #val_data_size = X_val_clean_cv.shape[0]\n",
    "    val_data_size = 4*batch_size\n",
    "\n",
    "    print \"td_size = %d\" % td_size\n",
    "    print \"niter = %d\" % niter\n",
    "\n",
    "    solver.step(niter)\n",
    "\n",
    "    train_error_check = solver.net.blobs['loss'].data\n",
    "\n",
    "    print \"testing...\"\n",
    "\n",
    "    val_error = 0\n",
    "    val_error_check = 0\n",
    "    niter_val = int(np.ceil( float(val_data_size) / batch_size))\n",
    "    for test_it in range(niter_val):\n",
    "        solver.test_nets[0].forward()\n",
    "        val_error += np.sum( (solver.test_nets[0].blobs['score'].data -\n",
    "                             solver.test_nets[0].blobs['label'].data) ** 2) / (2 * float(val_data_size))\n",
    "        val_error_check += solver.test_nets[0].blobs['loss'].data / niter_val\n",
    "\n",
    "\n",
    "    train_error = 0\n",
    "    for test_it in range(num_iter_per_epoch):\n",
    "        solver.test_nets[1].forward()\n",
    "        train_error += np.sum( (solver.test_nets[1].blobs['score'].data -\n",
    "                             solver.test_nets[1].blobs['label'].data) ** 2) / (2 * float(num_iter_per_epoch * batch_size))\n",
    "\n",
    "    print \"train_error = %f, train_error_check = %f, \\\n",
    "    val_error = %f, val_error_check = %f\" % \\\n",
    "            (train_error, train_error_check, val_error, val_error_check)"
   ]
  },
  {
   "cell_type": "code",
   "execution_count": 117,
   "metadata": {
    "collapsed": true
   },
   "outputs": [],
   "source": [
    "def euclidean_loss(a, b):\n",
    "    batch_size, num_labels = a.shape\n",
    "    \n",
    "    return np.sum((a-b)**2) / float(batch_size * 2)"
   ]
  },
  {
   "cell_type": "code",
   "execution_count": 118,
   "metadata": {
    "collapsed": false,
    "scrolled": true
   },
   "outputs": [
    {
     "name": "stdout",
     "output_type": "stream",
     "text": [
      "td_size = 1628\n",
      "niter = 1300\n",
      "val_interval = 13\n",
      "it = 0, train_loss = 47326.492188, train_error = 35844.277344, val_error = 33189.703125\n",
      "it = 13, train_loss = 2806.512207, train_error = 2564.843262, val_error = 2547.157593\n",
      "it = 26, train_loss = 1763.187988, train_error = 1703.813354, val_error = 1640.337341\n",
      "it = 39, train_loss = 1177.055664, train_error = 1072.918640, val_error = 1253.483887\n",
      "it = 52, train_loss = 1041.196289, train_error = 1081.498474, val_error = 1087.551025\n",
      "it = 65, train_loss = 971.007935, train_error = 958.560547, val_error = 1027.216858\n",
      "it = 78, train_loss = 974.267456, train_error = 911.452240, val_error = 923.486511\n",
      "it = 91, train_loss = 929.574585, train_error = 851.285980, val_error = 915.623108\n",
      "it = 104, train_loss = 857.497925, train_error = 785.054108, val_error = 826.673859\n",
      "it = 117, train_loss = 670.782349, train_error = 645.441803, val_error = 842.500427\n",
      "it = 130, train_loss = 505.543274, train_error = 621.339630, val_error = 764.655518\n",
      "it = 143, train_loss = 546.244873, train_error = 598.714661, val_error = 793.026154\n",
      "it = 156, train_loss = 584.771362, train_error = 687.165436, val_error = 721.339447\n",
      "it = 169, train_loss = 653.280090, train_error = 546.766205, val_error = 755.029785\n",
      "it = 182, train_loss = 623.602173, train_error = 583.355896, val_error = 689.637726\n",
      "it = 195, train_loss = 542.854309, train_error = 480.619324, val_error = 722.951019\n",
      "it = 208, train_loss = 575.368652, train_error = 497.657471, val_error = 669.451172\n",
      "it = 221, train_loss = 495.314453, train_error = 412.933487, val_error = 693.009949\n",
      "it = 234, train_loss = 499.984436, train_error = 545.169739, val_error = 647.777161\n",
      "it = 247, train_loss = 419.160706, train_error = 422.918060, val_error = 672.426270\n",
      "it = 260, train_loss = 439.428925, train_error = 382.215179, val_error = 632.563416\n",
      "it = 273, train_loss = 360.213684, train_error = 408.887268, val_error = 653.443298\n",
      "it = 286, train_loss = 370.858093, train_error = 340.559479, val_error = 620.784454\n",
      "it = 299, train_loss = 379.987762, train_error = 374.930664, val_error = 640.666168\n",
      "it = 312, train_loss = 303.338989, train_error = 373.508347, val_error = 608.178833\n",
      "it = 325, train_loss = 310.990631, train_error = 381.961090, val_error = 626.091003\n",
      "it = 338, train_loss = 301.638855, train_error = 320.224167, val_error = 597.146637\n",
      "it = 351, train_loss = 289.563507, train_error = 342.329193, val_error = 615.032288\n",
      "it = 364, train_loss = 254.351135, train_error = 295.499924, val_error = 587.656860\n",
      "it = 377, train_loss = 333.194702, train_error = 302.886780, val_error = 609.298920\n",
      "it = 390, train_loss = 344.725861, train_error = 268.578094, val_error = 586.359344\n",
      "it = 403, train_loss = 338.582031, train_error = 330.905441, val_error = 608.002045\n",
      "it = 416, train_loss = 287.238403, train_error = 267.474213, val_error = 585.540405\n",
      "it = 429, train_loss = 230.924377, train_error = 292.268082, val_error = 603.629440\n",
      "it = 442, train_loss = 209.848145, train_error = 290.687546, val_error = 585.607483\n",
      "it = 455, train_loss = 212.224152, train_error = 259.245438, val_error = 600.110413\n",
      "it = 468, train_loss = 239.755066, train_error = 219.277489, val_error = 584.223907\n",
      "it = 481, train_loss = 219.145386, train_error = 288.363602, val_error = 598.081314\n",
      "it = 494, train_loss = 221.181580, train_error = 225.377258, val_error = 574.491028\n",
      "it = 507, train_loss = 202.375244, train_error = 235.677681, val_error = 593.033249\n",
      "it = 520, train_loss = 211.424896, train_error = 265.293396, val_error = 568.229279\n",
      "it = 533, train_loss = 218.115662, train_error = 201.291756, val_error = 585.534882\n",
      "it = 546, train_loss = 215.262512, train_error = 222.220108, val_error = 564.565582\n",
      "it = 559, train_loss = 227.254944, train_error = 203.801170, val_error = 577.571350\n",
      "it = 572, train_loss = 277.730957, train_error = 216.663795, val_error = 557.457733\n",
      "it = 585, train_loss = 252.496490, train_error = 192.408066, val_error = 576.435394\n",
      "it = 598, train_loss = 254.563599, train_error = 219.506966, val_error = 550.504898\n",
      "it = 611, train_loss = 210.981628, train_error = 199.066734, val_error = 570.691681\n",
      "it = 624, train_loss = 162.985123, train_error = 203.065933, val_error = 544.604645\n",
      "it = 637, train_loss = 167.927399, train_error = 168.575508, val_error = 566.220398\n",
      "it = 650, train_loss = 172.148132, train_error = 208.916191, val_error = 541.142273\n",
      "it = 663, train_loss = 173.757141, train_error = 163.625282, val_error = 562.425888\n",
      "it = 676, train_loss = 180.602585, train_error = 170.410423, val_error = 537.638092\n",
      "it = 689, train_loss = 169.411469, train_error = 181.590286, val_error = 558.719452\n",
      "it = 702, train_loss = 138.305634, train_error = 182.153183, val_error = 535.381104\n",
      "it = 715, train_loss = 126.587959, train_error = 160.149277, val_error = 556.397369\n",
      "it = 728, train_loss = 133.180878, train_error = 183.232918, val_error = 533.929947\n",
      "it = 741, train_loss = 133.307098, train_error = 177.939468, val_error = 554.330414\n",
      "it = 754, train_loss = 162.629883, train_error = 141.100128, val_error = 532.334351\n",
      "it = 767, train_loss = 174.772949, train_error = 146.884125, val_error = 552.032288\n",
      "it = 780, train_loss = 166.095734, train_error = 153.446060, val_error = 531.127533\n",
      "it = 793, train_loss = 176.074890, train_error = 164.286377, val_error = 551.285965\n",
      "it = 806, train_loss = 156.185425, train_error = 153.012810, val_error = 528.449432\n",
      "it = 819, train_loss = 150.730682, train_error = 167.409271, val_error = 550.589203\n",
      "it = 832, train_loss = 129.378174, train_error = 127.356277, val_error = 527.410248\n",
      "it = 845, train_loss = 121.950989, train_error = 147.600800, val_error = 551.647644\n",
      "it = 858, train_loss = 132.892487, train_error = 129.575500, val_error = 527.861603\n",
      "it = 871, train_loss = 134.208557, train_error = 143.199333, val_error = 553.131760\n",
      "it = 884, train_loss = 139.099152, train_error = 121.572628, val_error = 528.880295\n",
      "it = 897, train_loss = 98.900764, train_error = 160.835190, val_error = 556.181763\n",
      "it = 910, train_loss = 105.394676, train_error = 131.240791, val_error = 530.022995\n",
      "it = 923, train_loss = 102.987930, train_error = 123.264633, val_error = 557.321564\n",
      "it = 936, train_loss = 111.722214, train_error = 136.130180, val_error = 535.933441\n",
      "it = 949, train_loss = 101.543907, train_error = 117.084793, val_error = 564.001160\n",
      "it = 962, train_loss = 128.734589, train_error = 113.083008, val_error = 542.197800\n",
      "it = 975, train_loss = 139.263702, train_error = 112.863377, val_error = 573.610840\n",
      "it = 988, train_loss = 145.365082, train_error = 150.683746, val_error = 549.783905\n",
      "it = 1001, train_loss = 132.952332, train_error = 130.687817, val_error = 582.217056\n",
      "it = 1014, train_loss = 99.190125, train_error = 146.331238, val_error = 555.777100\n",
      "it = 1027, train_loss = 100.712624, train_error = 129.077789, val_error = 588.047302\n",
      "it = 1040, train_loss = 87.629562, train_error = 114.099323, val_error = 554.449982\n",
      "it = 1053, train_loss = 96.642128, train_error = 100.829216, val_error = 592.017334\n",
      "it = 1066, train_loss = 94.854889, train_error = 129.876862, val_error = 559.840912\n",
      "it = 1079, train_loss = 95.918655, train_error = 120.275211, val_error = 587.770081\n",
      "it = 1092, train_loss = 88.178856, train_error = 145.594353, val_error = 558.213928\n",
      "it = 1105, train_loss = 89.794655, train_error = 133.849335, val_error = 587.091797\n",
      "it = 1118, train_loss = 95.913330, train_error = 115.554703, val_error = 549.895233\n",
      "it = 1131, train_loss = 96.270538, train_error = 86.357384, val_error = 582.918503\n",
      "it = 1144, train_loss = 97.547333, train_error = 106.658394, val_error = 543.877472\n",
      "it = 1157, train_loss = 131.735992, train_error = 94.784935, val_error = 577.792526\n",
      "it = 1170, train_loss = 133.375153, train_error = 104.752834, val_error = 540.481003\n",
      "it = 1183, train_loss = 131.501221, train_error = 120.676643, val_error = 569.416550\n",
      "it = 1196, train_loss = 116.574005, train_error = 98.865089, val_error = 534.993988\n",
      "it = 1209, train_loss = 88.219437, train_error = 107.272285, val_error = 563.150467\n",
      "it = 1222, train_loss = 78.699371, train_error = 88.853046, val_error = 531.153030\n",
      "it = 1235, train_loss = 81.436455, train_error = 100.955750, val_error = 559.361862\n",
      "it = 1248, train_loss = 88.265694, train_error = 76.490578, val_error = 531.813843\n",
      "it = 1261, train_loss = 85.306931, train_error = 89.823051, val_error = 558.316910\n",
      "it = 1274, train_loss = 76.932724, train_error = 99.461407, val_error = 531.299515\n",
      "it = 1287, train_loss = 64.449997, train_error = 120.763981, val_error = 558.967255\n",
      "CPU times: user 2h 38min 24s, sys: 1min 46s, total: 2h 40min 10s\n",
      "Wall time: 1h 29min 21s\n"
     ]
    }
   ],
   "source": [
    "%%time\n",
    "\n",
    "f = h5py.File('../data/train_data_lenet.hd5', 'w')\n",
    "f.create_dataset('data', data=X_train_clean_cv[0:td_size], compression='gzip', compression_opts=4)\n",
    "f.create_dataset('label', data=y_train_clean_cv[0:td_size], compression='gzip', compression_opts=4)\n",
    "f.close()\n",
    "\n",
    "solver = None\n",
    "solver = caffe.get_solver(solver_config_fname)\n",
    "\n",
    "\n",
    "num_iter_per_epoch = int(np.ceil(float(td_size) / batch_size))\n",
    "niter = num_iter_per_epoch * num_epochs\n",
    "val_interval = num_iter_per_epoch\n",
    "\n",
    "\n",
    "# niter_val_error = int(np.ceil( float(val_data_size) / batch_size))\n",
    "niter_val_error = 2 \n",
    "niter_train_error = 2 \n",
    "\n",
    "print \"td_size = %d\" % td_size\n",
    "print \"niter = %d\" % niter\n",
    "print \"val_interval = %d\" % val_interval\n",
    "train_loss = np.zeros(niter)\n",
    "train_error = np.zeros( int(np.ceil(float(niter) / val_interval)))\n",
    "val_error = np.zeros( int(np.ceil(float(niter) / val_interval)))\n",
    "\n",
    "for it in range(niter):\n",
    "    solver.step(1)\n",
    "    \n",
    "    train_loss[it] = solver.net.blobs['loss'].data\n",
    "    \n",
    "    \n",
    "    \n",
    "    if (it % val_interval) == 0:\n",
    "        \n",
    "        val_error_this = 0\n",
    "        for test_it in range(niter_val_error):\n",
    "            solver.test_nets[0].forward()\n",
    "            val_error_this += euclidean_loss(solver.test_nets[0].blobs['score'].data , \n",
    "                                             solver.test_nets[0].blobs['label'].data) / niter_val_error\n",
    "        val_error[it // val_interval] = val_error_this\n",
    "        \n",
    "        train_error_this = 0\n",
    "        for test_it in range(niter_train_error):\n",
    "            solver.test_nets[1].forward()\n",
    "            train_error_this += euclidean_loss(solver.test_nets[1].blobs['score'].data , \n",
    "                                             solver.test_nets[1].blobs['label'].data) / niter_train_error\n",
    "        train_error[it // val_interval] = train_error_this\n",
    "        \n",
    "        \n",
    "        print \"it = %d, train_loss = %f, train_error = %f, val_error = %f\" % (it, train_loss[it], train_error[it // val_interval], val_error[it // val_interval])\n",
    "\n",
    "solver.net.save('lenet_trained.caffemodel')"
   ]
  },
  {
   "cell_type": "code",
   "execution_count": 119,
   "metadata": {
    "collapsed": false
   },
   "outputs": [
    {
     "data": {
      "text/plain": [
       "(0, 1000)"
      ]
     },
     "execution_count": 119,
     "metadata": {},
     "output_type": "execute_result"
    },
    {
     "data": {
      "image/png": "[encoded data removed]",
      "text/plain": [
       "<matplotlib.figure.Figure at 0x7f419f3611d0>"
      ]
     },
     "metadata": {},
     "output_type": "display_data"
    }
   ],
   "source": [
    "import matplotlib.pyplot as plt\n",
    "\n",
    "_, ax1 = plt.subplots()\n",
    "# ax2 = ax1.twinx()\n",
    "ax1.plot(range(niter), train_loss, 'k', label='train_loss')\n",
    "ax1.plot(val_interval * np.arange(len(val_error)), val_error, 'r', label='val_error')\n",
    "ax1.plot(val_interval * np.arange(len(train_error)), train_error, 'b', label='train_error')\n",
    "ax1.legend()\n",
    "ax1.set_xlabel('iteration')\n",
    "ax1.set_ylabel('error')\n",
    "ax1.set_ylim([0,1000])"
   ]
  },
  {
   "cell_type": "code",
   "execution_count": 120,
   "metadata": {
    "collapsed": false
   },
   "outputs": [
    {
     "name": "stdout",
     "output_type": "stream",
     "text": [
      "training_error = 120.763981, val_error = 558.967255\n"
     ]
    }
   ],
   "source": [
    "print \"training_error = %f, val_error = %f\" % (train_error[-1], val_error[-1])"
   ]
  },
  {
   "cell_type": "code",
   "execution_count": 121,
   "metadata": {
    "collapsed": false
   },
   "outputs": [],
   "source": [
    "if 0:\n",
    "    additional_epochs = 25\n",
    "    addn_niter = num_iter_per_epoch * additional_epochs\n",
    "    train_loss_2 = np.append(train_loss, np.zeros(addn_niter))\n",
    "    train_error_2 = np.append(train_error, np.zeros(int(np.ceil(float(addn_niter) / val_interval))))\n",
    "    val_error_2 = np.append(val_error, np.zeros(int(np.ceil(float(addn_niter) / val_interval))))\n",
    "\n",
    "    print \"niter = \", niter\n",
    "    print \"addn_niter = \", addn_niter\n",
    "\n",
    "    for it in range(niter, niter + addn_niter):\n",
    "        solver.step(1)\n",
    "\n",
    "        train_loss_2[it] = solver.net.blobs['loss'].data\n",
    "            \n",
    "        if (it % val_interval) == 0:\n",
    "\n",
    "            val_error_this = 0\n",
    "            for test_it in range(niter_val_error):\n",
    "                solver.test_nets[0].forward()\n",
    "                val_error_this += euclidean_loss(solver.test_nets[0].blobs['score'].data , \n",
    "                                                 solver.test_nets[0].blobs['label'].data) / niter_val_error\n",
    "            val_error_2[it // val_interval] = val_error_this\n",
    "\n",
    "            train_error_this = 0\n",
    "            for test_it in range(niter_train_error):\n",
    "                solver.test_nets[1].forward()\n",
    "                train_error_this += euclidean_loss(solver.test_nets[1].blobs['score'].data , \n",
    "                                                 solver.test_nets[1].blobs['label'].data) / niter_train_error\n",
    "            train_error_2[it // val_interval] = train_error_this\n",
    "\n",
    "\n",
    "            print \"addn_iter = %d, train_loss = %f, train_error = %f, val_error = %f\" % (it, train_loss_2[it], train_error_2[it // val_interval], val_error_2[it // val_interval])"
   ]
  },
  {
   "cell_type": "code",
   "execution_count": 122,
   "metadata": {
    "collapsed": false
   },
   "outputs": [],
   "source": [
    "if 0:\n",
    "    _, ax1 = plt.subplots()\n",
    "    # ax2 = ax1.twinx()\n",
    "    ax1.plot(val_interval * np.arange(len(val_error_2)), train_error_2, label='train_error')\n",
    "    ax1.plot(val_interval * np.arange(len(val_error_2)), val_error_2, 'r', label='val_error')\n",
    "    ax1.legend()\n",
    "    ax1.set_xlabel('iteration')\n",
    "    ax1.set_ylabel('error')\n",
    "    ax1.set_ylim([0,1000])"
   ]
  },
  {
   "cell_type": "code",
   "execution_count": 126,
   "metadata": {
    "collapsed": false
   },
   "outputs": [
    {
     "name": "stdout",
     "output_type": "stream",
     "text": [
      "374.565168935\n"
     ]
    }
   ],
   "source": [
    "my_net = solver.net\n",
    "train_error_sanity = 0\n",
    "niter_sanity = 10\n",
    "batch_size_used = 128\n",
    "for it in range(niter_sanity):\n",
    "    it_range = range(it*batch_size, it*batch_size+batch_size)\n",
    "    my_net.blobs['data'].data[...] = X_train_clean_cv[it_range]\n",
    "    my_net.forward()\n",
    "    out = my_net.blobs['score'].data\n",
    "    \n",
    "#     train_error += np.sum( (out - y_train_clean_cv[it_range]) ** 2) / float(2* y_train_clean_cv.shape[1])\n",
    "    train_error_sanity += euclidean_loss(out, y_train_clean_cv[it_range])\n",
    "train_error_sanity = train_error_sanity / float(niter_sanity)  \n",
    "\n",
    "print train_error_sanity"
   ]
  },
  {
   "cell_type": "code",
   "execution_count": 124,
   "metadata": {
    "collapsed": false
   },
   "outputs": [
    {
     "name": "stdout",
     "output_type": "stream",
     "text": [
      "374.94871165\n"
     ]
    }
   ],
   "source": [
    "val_error_sanity = 0\n",
    "niter_sanity = 4\n",
    "batch_size_used = 128\n",
    "for it in range(niter_sanity):\n",
    "    it_range = range(it*batch_size, it*batch_size+batch_size)\n",
    "    my_net.blobs['data'].data[...] = X_val_clean_cv[it_range]\n",
    "    my_net.forward()\n",
    "    out = my_net.blobs['score'].data\n",
    "    \n",
    "#     train_error += np.sum( (out - y_train_clean_cv[it_range]) ** 2) / float(2* y_train_clean_cv.shape[1])\n",
    "    val_error_sanity += euclidean_loss(out, y_val_clean_cv[it_range])\n",
    "val_error_sanity = val_error_sanity / float(niter_sanity)\n",
    "\n",
    "print val_error_sanity"
   ]
  },
  {
   "cell_type": "code",
   "execution_count": null,
   "metadata": {
    "collapsed": true
   },
   "outputs": [],
   "source": []
  }
 ],
 "metadata": {
  "anaconda-cloud": {},
  "kernelspec": {
   "display_name": "Python [default]",
   "language": "python",
   "name": "python2"
  },
  "language_info": {
   "codemirror_mode": {
    "name": "ipython",
    "version": 2
   },
   "file_extension": ".py",
   "mimetype": "text/x-python",
   "name": "python",
   "nbconvert_exporter": "python",
   "pygments_lexer": "ipython2",
   "version": "2.7.12"
  }
 },
 "nbformat": 4,
 "nbformat_minor": 1
}
