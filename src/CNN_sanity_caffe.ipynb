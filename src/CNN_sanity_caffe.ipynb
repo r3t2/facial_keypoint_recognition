{
 "cells": [
  {
   "cell_type": "markdown",
   "metadata": {},
   "source": [
    "# Sanity CNN implemented in caffe"
   ]
  },
  {
   "cell_type": "code",
   "execution_count": 44,
   "metadata": {
    "collapsed": false,
    "scrolled": true
   },
   "outputs": [],
   "source": [
    "from pylab import *\n",
    "%matplotlib inline\n",
    "\n",
    "import sys\n",
    "import os\n",
    "\n",
    "caffe_root = '../../../caffe/'\n",
    "\n",
    "sys.path.insert(0, caffe_root + '/' + 'python')\n",
    "import caffe"
   ]
  },
  {
   "cell_type": "code",
   "execution_count": 45,
   "metadata": {
    "collapsed": false,
    "scrolled": true
   },
   "outputs": [
    {
     "name": "stdout",
     "output_type": "stream",
     "text": [
      "layer {\r\n",
      "  name: \"data\"\r\n",
      "  type: \"HDF5Data\"\r\n",
      "  top: \"data\"\r\n",
      "  top: \"label\"\r\n",
      "  hdf5_data_param {\r\n",
      "    source: \"../data/train.h5list\"\r\n",
      "    batch_size: 25\r\n",
      "  }\r\n",
      "}\r\n",
      "layer {\r\n",
      "  name: \"conv1\"\r\n",
      "  type: \"Convolution\"\r\n",
      "  bottom: \"data\"\r\n",
      "  top: \"conv1\"\r\n",
      "  convolution_param {\r\n",
      "    num_output: 32\r\n",
      "    kernel_size: 3\r\n",
      "    weight_filler {\r\n",
      "      type: \"xavier\"\r\n",
      "    }\r\n",
      "  }\r\n",
      "}\r\n",
      "layer {\r\n",
      "  name: \"relu1\"\r\n",
      "  type: \"ReLU\"\r\n",
      "  bottom: \"conv1\"\r\n",
      "  top: \"conv1\"\r\n",
      "}\r\n",
      "layer {\r\n",
      "  name: \"pool1\"\r\n",
      "  type: \"Pooling\"\r\n",
      "  bottom: \"conv1\"\r\n",
      "  top: \"pool1\"\r\n",
      "  pooling_param {\r\n",
      "    pool: MAX\r\n",
      "    kernel_size: 2\r\n",
      "    stride: 2\r\n",
      "  }\r\n",
      "}\r\n",
      "layer {\r\n",
      "  name: \"fc2\"\r\n",
      "  type: \"InnerProduct\"\r\n",
      "  bottom: \"pool1\"\r\n",
      "  top: \"fc2\"\r\n",
      "  inner_product_param {\r\n",
      "    num_output: 100\r\n",
      "    weight_filler {\r\n",
      "      type: \"xavier\"\r\n",
      "    }\r\n",
      "  }\r\n",
      "}\r\n",
      "layer {\r\n",
      "  name: \"relu2\"\r\n",
      "  type: \"ReLU\"\r\n",
      "  bottom: \"fc2\"\r\n",
      "  top: \"fc2\"\r\n",
      "}\r\n",
      "layer {\r\n",
      "  name: \"score\"\r\n",
      "  type: \"InnerProduct\"\r\n",
      "  bottom: \"fc2\"\r\n",
      "  top: \"score\"\r\n",
      "  inner_product_param {\r\n",
      "    num_output: 30\r\n",
      "    weight_filler {\r\n",
      "      type: \"xavier\"\r\n",
      "    }\r\n",
      "  }\r\n",
      "}\r\n",
      "layer {\r\n",
      "  name: \"loss\"\r\n",
      "  type: \"EuclideanLoss\"\r\n",
      "  bottom: \"score\"\r\n",
      "  bottom: \"label\"\r\n",
      "  top: \"loss\"\r\n",
      "}\r\n"
     ]
    }
   ],
   "source": [
    "from caffe import layers as L, params as P\n",
    "\n",
    "train_net_path = 'three_layer_train.prototxt'\n",
    "test_net_path = 'three_layer_test.prototxt'\n",
    "\n",
    "def three_layer_sanity_cnn(hdf5, batch_size=25):\n",
    "\n",
    "    # Conv - ReLU - Pool - Affine - Relu - Affine - Loss\n",
    "    n = caffe.NetSpec()\n",
    "    \n",
    "#     n.data, n.label = L.MemoryData(batch_size = batch_size, channels = channels, width = width, height = height)\n",
    "#     n.label = L.MemoryData(batch_size = batch_size, channels = 30, width = 1, height = 1)\n",
    "    n.data, n.label = L.HDF5Data(batch_size=batch_size, source=hdf5, ntop=2)\n",
    "    \n",
    "    n.conv1 = L.Convolution(n.data, kernel_size=3, num_output=32, weight_filler=dict(type='xavier'))\n",
    "    n.relu1 = L.ReLU(n.conv1, in_place=True)\n",
    "    n.pool1 = L.Pooling(n.relu1, kernel_size=2, stride=2, pool=P.Pooling.MAX)\n",
    "    \n",
    "    n.fc2 = L.InnerProduct(n.pool1, num_output=100, weight_filler=dict(type='xavier'))\n",
    "    n.relu2 = L.ReLU(n.fc2, in_place=True)\n",
    "    \n",
    "    n.score = L.InnerProduct(n.relu2, num_output=30, weight_filler=dict(type='xavier'))\n",
    "\n",
    "    n.loss =  L.EuclideanLoss(n.score, n.label)\n",
    "    \n",
    "    return n.to_proto()\n",
    "\n",
    "\n",
    "with open(train_net_path, 'w') as f:\n",
    "    f.write(str(three_layer_sanity_cnn(hdf5='../data/train.h5list', batch_size=25)))\n",
    "\n",
    "with open(test_net_path, 'w') as f:\n",
    "    f.write(str(three_layer_sanity_cnn(hdf5='../data/test.h5list', batch_size=25)))\n",
    "    \n",
    "!cat three_layer_train.prototxt"
   ]
  },
  {
   "cell_type": "code",
   "execution_count": 46,
   "metadata": {
    "collapsed": false,
    "scrolled": true
   },
   "outputs": [
    {
     "name": "stdout",
     "output_type": "stream",
     "text": [
      "train_net: \"three_layer_train.prototxt\"\r\n",
      "test_net: \"three_layer_train.prototxt\"\r\n",
      "test_net: \"three_layer_test.prototxt\"\r\n",
      "test_iter: 2\r\n",
      "test_iter: 20\r\n",
      "test_interval: 10\r\n",
      "base_lr: 1e-05\r\n",
      "display: 2\r\n",
      "max_iter: 1000\r\n",
      "lr_policy: \"step\"\r\n",
      "gamma: 0.0001\r\n",
      "power: 0.75\r\n",
      "momentum: 0.9\r\n",
      "weight_decay: 0.0005\r\n",
      "stepsize: 100\r\n",
      "snapshot: 500\r\n",
      "snapshot_prefix: \"three_layer_sanity\"\r\n",
      "solver_mode: CPU\r\n",
      "type: \"Adam\"\r\n"
     ]
    }
   ],
   "source": [
    "solver_config_path = 'three_layer_auto_solver.prototxt'\n",
    "### define solver\n",
    "from caffe.proto import caffe_pb2\n",
    "s = caffe_pb2.SolverParameter()\n",
    "\n",
    "# Set a seed for reproducible experiments:\n",
    "# this controls for randomization in training.\n",
    "# s.random_seed = 0xCAFFE\n",
    "\n",
    "# Specify locations of the train and (maybe) test networks.\n",
    "s.train_net = train_net_path\n",
    "\n",
    "# Add train and test nets both. Train net to give training accuracy. Test net to give validation accuracy\n",
    "s.test_net.append(train_net_path)\n",
    "s.test_net.append(test_net_path)\n",
    "s.test_interval = 10  # Test after every 500 training iterations.\n",
    "s.test_iter.append(2) # Test on 4 batches each time we test.\n",
    "s.test_iter.append(20) # Test on 4 batches each time we test.\n",
    "\n",
    "s.max_iter = 1000     # no. of times to update the net (training iterations)\n",
    " \n",
    "# EDIT HERE to try different solvers\n",
    "# solver types include \"SGD\", \"Adam\", and \"Nesterov\" among others.\n",
    "s.type = \"Adam\"\n",
    "\n",
    "# Set the initial learning rate for SGD.\n",
    "s.base_lr = 0.00001  # EDIT HERE to try different learning rates\n",
    "# Set momentum to accelerate learning by\n",
    "# taking weighted average of current and previous updates.\n",
    "s.momentum = 0.9\n",
    "# Set weight decay to regularize and prevent overfitting\n",
    "s.weight_decay = 5e-4\n",
    "\n",
    "# Set `lr_policy` to define how the learning rate changes during training.\n",
    "# This is the same policy as our default LeNet.\n",
    "s.lr_policy = 'step'\n",
    "s.stepsize = 100 #drop the learning rate every stepsize.\n",
    "\n",
    "s.gamma = 0.0001\n",
    "s.power = 0.75\n",
    "# EDIT HERE to try the fixed rate (and compare with adaptive solvers)\n",
    "# `fixed` is the simplest policy that keeps the learning rate constant.\n",
    "# s.lr_policy = 'fixed'\n",
    "\n",
    "# Display the current training loss and accuracy every 1000 iterations.\n",
    "s.display = 2\n",
    "\n",
    "# Snapshots are files used to store networks we've trained.\n",
    "# We'll snapshot every 5K iterations -- twice during training.\n",
    "s.snapshot = 500\n",
    "s.snapshot_prefix = 'three_layer_sanity'\n",
    "\n",
    "# Train on the GPU\n",
    "s.solver_mode = caffe_pb2.SolverParameter.CPU\n",
    "\n",
    "# Write the solver to a temporary file and return its filename.\n",
    "with open(solver_config_path, 'w') as f:\n",
    "    f.write(str(s))\n",
    "\n",
    "!cat three_layer_auto_solver.prototxt"
   ]
  },
  {
   "cell_type": "code",
   "execution_count": 47,
   "metadata": {
    "collapsed": true,
    "scrolled": true
   },
   "outputs": [],
   "source": [
    "### load the solver and create train and test nets\n",
    "solver = None  # ignore this workaround for lmdb data (can't instantiate two solvers on the same data)\n",
    "solver = caffe.get_solver('three_layer_auto_solver.prototxt')\n"
   ]
  },
  {
   "cell_type": "code",
   "execution_count": 48,
   "metadata": {
    "collapsed": false,
    "scrolled": true
   },
   "outputs": [
    {
     "data": {
      "text/plain": [
       "[('data', (25, 1, 96, 96)),\n",
       " ('label', (25, 30)),\n",
       " ('conv1', (25, 32, 94, 94)),\n",
       " ('pool1', (25, 32, 47, 47)),\n",
       " ('fc2', (25, 100)),\n",
       " ('score', (25, 30)),\n",
       " ('loss', ())]"
      ]
     },
     "execution_count": 48,
     "metadata": {},
     "output_type": "execute_result"
    }
   ],
   "source": [
    "# each output is (batch size, feature dim, spatial dim)\n",
    "[(k, v.data.shape) for k, v in solver.net.blobs.items()]"
   ]
  },
  {
   "cell_type": "code",
   "execution_count": 49,
   "metadata": {
    "collapsed": false,
    "scrolled": true
   },
   "outputs": [
    {
     "data": {
      "text/plain": [
       "[('conv1', (32, 1, 3, 3)), ('fc2', (100, 70688)), ('score', (30, 100))]"
      ]
     },
     "execution_count": 49,
     "metadata": {},
     "output_type": "execute_result"
    }
   ],
   "source": [
    "# just print the weight sizes (we'll omit the biases)\n",
    "[(k, v[0].data.shape) for k, v in solver.net.params.items()]"
   ]
  },
  {
   "cell_type": "code",
   "execution_count": 50,
   "metadata": {
    "collapsed": false,
    "scrolled": true
   },
   "outputs": [
    {
     "data": {
      "text/plain": [
       "{'loss': array(64468.8046875, dtype=float32)}"
      ]
     },
     "execution_count": 50,
     "metadata": {},
     "output_type": "execute_result"
    }
   ],
   "source": [
    "solver.net.forward()  # train net\n",
    "solver.test_nets[0].forward()  # test net (there can be more than one)"
   ]
  },
  {
   "cell_type": "code",
   "execution_count": 51,
   "metadata": {
    "collapsed": false,
    "scrolled": true
   },
   "outputs": [
    {
     "data": {
      "text/plain": [
       "(-0.5, 575.5, 95.5, -0.5)"
      ]
     },
     "execution_count": 51,
     "metadata": {},
     "output_type": "execute_result"
    },
    {
     "data": {
      "image/png": "[encoded data removed]",
      "text/plain": [
       "<matplotlib.figure.Figure at 0x7ff26bd5eb50>"
      ]
     },
     "metadata": {},
     "output_type": "display_data"
    }
   ],
   "source": [
    "# we use a little trick to tile the first eight images\n",
    "imshow(solver.net.blobs['data'].data[:6, 0].transpose(1, 0, 2).reshape(96, 6*96), cmap='gray'); axis('off')\n",
    "#print 'train labels:', solver.net.blobs['label'].data[:4]"
   ]
  },
  {
   "cell_type": "code",
   "execution_count": 52,
   "metadata": {
    "collapsed": false,
    "scrolled": true
   },
   "outputs": [
    {
     "data": {
      "text/plain": [
       "(-0.5, 575.5, 95.5, -0.5)"
      ]
     },
     "execution_count": 52,
     "metadata": {},
     "output_type": "execute_result"
    },
    {
     "data": {
      "image/png": "[encoded data removed]",
      "text/plain": [
       "<matplotlib.figure.Figure at 0x7ff26bc5f9d0>"
      ]
     },
     "metadata": {},
     "output_type": "display_data"
    }
   ],
   "source": [
    "imshow(solver.test_nets[1].blobs['data'].data[:6, 0].transpose(1, 0, 2).reshape(96, 6*96), cmap='gray'); axis('off')"
   ]
  },
  {
   "cell_type": "markdown",
   "metadata": {},
   "source": [
    "## Stepping the solver"
   ]
  },
  {
   "cell_type": "code",
   "execution_count": 53,
   "metadata": {
    "collapsed": true,
    "scrolled": true
   },
   "outputs": [],
   "source": [
    "solver.step(1)"
   ]
  },
  {
   "cell_type": "code",
   "execution_count": 54,
   "metadata": {
    "collapsed": false,
    "scrolled": true
   },
   "outputs": [
    {
     "data": {
      "text/plain": [
       "(-0.5, 8.5, 31.5, -0.5)"
      ]
     },
     "execution_count": 54,
     "metadata": {},
     "output_type": "execute_result"
    },
    {
     "data": {
      "image/png": "[encoded data removed]",
      "text/plain": [
       "<matplotlib.figure.Figure at 0x7ff266c3b510>"
      ]
     },
     "metadata": {},
     "output_type": "display_data"
    }
   ],
   "source": [
    "imshow(solver.net.params['conv1'][0].diff[:, 0].reshape(8, 4, 3, 3)\n",
    "       .transpose(0, 2, 1, 3).reshape(4*8, 3*3), cmap='gray'); axis('off')"
   ]
  },
  {
   "cell_type": "code",
   "execution_count": null,
   "metadata": {
    "collapsed": false,
    "scrolled": true
   },
   "outputs": [
    {
     "name": "stdout",
     "output_type": "stream",
     "text": [
      "Iteration 0 testing...\n",
      "it = 0, training_loss = 3408.524414, train_acc = 451.324326, val_acc = 707.261810\n",
      "Iteration 2 testing...\n",
      "it = 2, training_loss = 3275.668945, train_acc = 428.755264, val_acc = 852.414429\n",
      "Iteration 4 testing...\n",
      "it = 4, training_loss = 3141.488770, train_acc = 406.589035, val_acc = 630.277649\n",
      "Iteration 6 testing...\n",
      "it = 6, training_loss = 3041.802490, train_acc = 389.093857, val_acc = 868.496613\n"
     ]
    }
   ],
   "source": [
    "%%time\n",
    "niter = 40\n",
    "test_interval = 2\n",
    "# losses will also be stored in the log\n",
    "train_loss = zeros(niter)\n",
    "\n",
    "\n",
    "train_acc = zeros(int(np.ceil(niter / test_interval)))\n",
    "val_acc = zeros(int(np.ceil(niter / test_interval)))\n",
    "#output = zeros((niter, 8, 10))\n",
    "\n",
    "# the main solver loop\n",
    "for it in range(niter):\n",
    "    solver.step(1)  # SGD by Caffe\n",
    "    \n",
    "    # store the train loss\n",
    "    train_loss[it] = solver.net.blobs['loss'].data\n",
    "    \n",
    "    # store the output on the first test batch\n",
    "    # (start the forward pass at conv1 to avoid loading new data)\n",
    "    #solver.test_nets[0].forward(start='conv1')\n",
    "    #output[it] = solver.test_nets[0].blobs['score'].data[:8]\n",
    "    if it % test_interval == 0:\n",
    "        print 'Iteration', it, 'testing...'\n",
    "        train_error = 0\n",
    "        val_error = 0\n",
    "        for test_it in range(2):\n",
    "            solver.test_nets[0].forward()\n",
    "            solver.test_nets[1].forward()\n",
    "            \n",
    "            train_error += np.mean( (solver.test_nets[0].blobs['score'].data \n",
    "                                  - solver.test_nets[0].blobs['label'].data) ** 2)\n",
    "            val_error += np.mean( (solver.test_nets[1].blobs['score'].data \n",
    "                                  - solver.test_nets[1].blobs['label'].data) ** 2)\n",
    "        \n",
    "        train_acc[it // test_interval] = train_error\n",
    "        val_acc[it // test_interval] = val_error\n",
    "        print \"it = %d, training_loss = %f, train_acc = %f, val_acc = %f\" % (it, train_loss[it], train_error, val_error)"
   ]
  },
  {
   "cell_type": "code",
   "execution_count": null,
   "metadata": {
    "collapsed": false,
    "scrolled": true
   },
   "outputs": [],
   "source": [
    "_, ax1 = subplots()\n",
    "ax2 = ax1.twinx()\n",
    "ax1.plot(arange(niter), train_loss, 'k')\n",
    "ax1.set_xlabel('iteration')\n",
    "ax1.set_ylabel('train loss')\n",
    "\n",
    "ax2.plot(test_interval * arange(len(train_acc)), train_acc, 'r', label='train_acc')\n",
    "ax2.plot(test_interval * arange(len(val_acc)), val_acc, 'b', label='val_acc')\n",
    "ax2.set_ylabel('test and val accuracy')\n",
    "ax2.legend()\n",
    "ax2.set_title('Custom Val Accuracy: {:.2f}'.format(val_acc[-1]))\n"
   ]
  },
  {
   "cell_type": "code",
   "execution_count": null,
   "metadata": {
    "collapsed": true,
    "scrolled": true
   },
   "outputs": [],
   "source": []
  }
 ],
 "metadata": {
  "anaconda-cloud": {},
  "kernelspec": {
   "display_name": "Python [default]",
   "language": "python",
   "name": "python2"
  },
  "language_info": {
   "codemirror_mode": {
    "name": "ipython",
    "version": 2
   },
   "file_extension": ".py",
   "mimetype": "text/x-python",
   "name": "python",
   "nbconvert_exporter": "python",
   "pygments_lexer": "ipython2",
   "version": "2.7.12"
  }
 },
 "nbformat": 4,
 "nbformat_minor": 1
}
