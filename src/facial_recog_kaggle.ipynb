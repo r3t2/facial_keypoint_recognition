{
 "cells": [
  {
   "cell_type": "code",
   "execution_count": 6,
   "metadata": {
    "collapsed": false
   },
   "outputs": [
    {
     "name": "stdout",
     "output_type": "stream",
     "text": [
      "The autoreload extension is already loaded. To reload it, use:\n",
      "  %reload_ext autoreload\n"
     ]
    }
   ],
   "source": [
    "import random\n",
    "import numpy as np\n",
    "import matplotlib.pyplot as plt\n",
    "import pandas as pd\n",
    "\n",
    "\n",
    "%matplotlib inline\n",
    "\n",
    "plt.rcParams['figure.figsize'] = (10.0, 8.0) # set default size of plots\n",
    "plt.rcParams['image.interpolation'] = 'nearest'\n",
    "plt.rcParams['image.cmap'] = 'gray'\n",
    "\n",
    "# for auto-reloading extenrnal modules\n",
    "# see http://stackoverflow.com/questions/1907993/autoreload-of-modules-in-ipython\n",
    "%load_ext autoreload\n",
    "%autoreload 2"
   ]
  },
  {
   "cell_type": "code",
   "execution_count": 7,
   "metadata": {
    "collapsed": false
   },
   "outputs": [
    {
     "name": "stdout",
     "output_type": "stream",
     "text": [
      "(7049, 31)\n"
     ]
    }
   ],
   "source": [
    "df=pd.read_csv('training.csv', sep=',')\n",
    "input_train = df.values\n",
    "\n",
    "print df.shape\n",
    "\n",
    "\n"
   ]
  },
  {
   "cell_type": "code",
   "execution_count": 8,
   "metadata": {
    "collapsed": false,
    "scrolled": true
   },
   "outputs": [
    {
     "name": "stdout",
     "output_type": "stream",
     "text": [
      "read data ...\n"
     ]
    }
   ],
   "source": [
    "X_train = input_train[:, 30]\n",
    "y_train = input_train[:, 0:30]\n",
    "\n",
    "import os.path\n",
    "if not os.path.isfile(\"xtrain.npy\"):\n",
    "    print \"read data ...\"\n",
    "    templist = []\n",
    "    for i in range(X_train.shape[0]):\n",
    "        templist.append([int(s) for s in X_train[i].split()])\n",
    "    X_train = np.array(templist)\n",
    "    np.save(\"xtrain.npy\", X_train)\n",
    "else:\n",
    "    print \"training data xtrain.npy exists. loading... \"\n",
    "    np.load(\"xtrain.npy\")\n",
    "\n"
   ]
  },
  {
   "cell_type": "code",
   "execution_count": 9,
   "metadata": {
    "collapsed": false
   },
   "outputs": [
    {
     "name": "stdout",
     "output_type": "stream",
     "text": [
      "(7049, 9216)\n",
      "(7049, 30)\n",
      "(15,) (15,)\n"
     ]
    },
    {
     "data": {
      "image/png": "[encoded data removed]",
      "text/plain": [
       "<matplotlib.figure.Figure at 0x1092f7710>"
      ]
     },
     "metadata": {},
     "output_type": "display_data"
    }
   ],
   "source": [
    "print X_train.shape\n",
    "print y_train.shape\n",
    "\n",
    "a = X_train[4096].reshape(96, 96)\n",
    "b = y_train[4096]\n",
    "b_x = b[0::2]\n",
    "b_y = b[1::2]\n",
    "print b_x.shape, b_y.shape\n",
    "\n",
    "plt.imshow(a)\n",
    "plt.scatter(b_x, b_y, s=120)\n",
    "plt.show()\n"
   ]
  },
  {
   "cell_type": "code",
   "execution_count": 31,
   "metadata": {
    "collapsed": false
   },
   "outputs": [
    {
     "name": "stdout",
     "output_type": "stream",
     "text": [
      "[65.6130976744 36.202827907 28.762481860500003 38.2312186047 nan nan nan\n",
      " nan nan nan nan nan nan nan nan nan nan nan nan nan 45.3282976744\n",
      " 68.3202976744 nan nan nan nan nan nan 47.018790697700005 78.8007069767]\n",
      "4909\n"
     ]
    }
   ],
   "source": [
    "print y_train[4096]\n",
    "# y_train = np.stack(y_train)\n",
    "\n",
    "# print y_train[0:2, :]\n",
    "\n",
    "# print y_train.shape\n",
    "# print y_train.dtype\n",
    "# y_nan_check = np.isnan(y_train[0])\n",
    "\n",
    "# a = np.sum(y_nan_check, axis=1)\n",
    "# b = np.sum(y_nan_check, axis=0)\n",
    "\n",
    "# full_image_check_idx = (a==30)\n",
    "# print np.sum(full_image_check_idx)\n",
    "# print b\n",
    "\n",
    "\n",
    "count = 0\n",
    "for y in y_train:\n",
    "    isnan = False\n",
    "    for yy in y:\n",
    "        if np.isnan(yy):\n",
    "            isnan = True\n",
    "            break\n",
    "    if isnan:\n",
    "        count += 1\n",
    "print count\n",
    "\n"
   ]
  },
  {
   "cell_type": "code",
   "execution_count": 45,
   "metadata": {
    "collapsed": false
   },
   "outputs": [
    {
     "name": "stdout",
     "output_type": "stream",
     "text": [
      "<type 'numpy.ndarray'>\n",
      "<type 'numpy.ndarray'>\n",
      "float64\n",
      "4909\n",
      "[  10   10   13   13 4778 4778 4782 4782 4781 4781 4781 4781 4779 4779 4824\n",
      " 4824 4779 4779 4813 4813    0    0 4780 4780 4779 4779 4774 4774   33   33]\n"
     ]
    }
   ],
   "source": [
    "\n",
    "print type(y_train)\n",
    "print type(y_train[33])\n",
    "y_train = y_train.astype(float)\n",
    "print y_train[0].dtype\n",
    "\n",
    "y_nan_check = np.isnan(y_train)\n",
    "\n",
    "a = np.sum(y_nan_check, axis=1)\n",
    "b = np.sum(y_nan_check, axis=0)\n",
    "\n",
    "full_image_check_idx = (a > 0)\n",
    "print np.sum(full_image_check_idx)\n",
    "print b"
   ]
  },
  {
   "cell_type": "code",
   "execution_count": 48,
   "metadata": {
    "collapsed": false
   },
   "outputs": [
    {
     "name": "stdout",
     "output_type": "stream",
     "text": [
      "[('left_eye_center_x', 10), ('left_eye_center_y', 10), ('right_eye_center_x', 13), ('right_eye_center_y', 13), ('left_eye_inner_corner_x', 4778), ('left_eye_inner_corner_y', 4778), ('left_eye_outer_corner_x', 4782), ('left_eye_outer_corner_y', 4782), ('right_eye_inner_corner_x', 4781), ('right_eye_inner_corner_y', 4781), ('right_eye_outer_corner_x', 4781), ('right_eye_outer_corner_y', 4781), ('left_eyebrow_inner_end_x', 4779), ('left_eyebrow_inner_end_y', 4779), ('left_eyebrow_outer_end_x', 4824), ('left_eyebrow_outer_end_y', 4824), ('right_eyebrow_inner_end_x', 4779), ('right_eyebrow_inner_end_y', 4779), ('right_eyebrow_outer_end_x', 4813), ('right_eyebrow_outer_end_y', 4813), ('nose_tip_x', 0), ('nose_tip_y', 0), ('mouth_left_corner_x', 4780), ('mouth_left_corner_y', 4780), ('mouth_right_corner_x', 4779), ('mouth_right_corner_y', 4779), ('mouth_center_top_lip_x', 4774), ('mouth_center_top_lip_y', 4774), ('mouth_center_bottom_lip_x', 33), ('mouth_center_bottom_lip_y', 33)]\n"
     ]
    }
   ],
   "source": [
    "labels = \"left_eye_center_x,left_eye_center_y,right_eye_center_x,right_eye_center_y,left_eye_inner_corner_x,left_eye_inner_corner_y,left_eye_outer_corner_x,left_eye_outer_corner_y,right_eye_inner_corner_x,right_eye_inner_corner_y,right_eye_outer_corner_x,right_eye_outer_corner_y,left_eyebrow_inner_end_x,left_eyebrow_inner_end_y,left_eyebrow_outer_end_x,left_eyebrow_outer_end_y,right_eyebrow_inner_end_x,right_eyebrow_inner_end_y,right_eyebrow_outer_end_x,right_eyebrow_outer_end_y,nose_tip_x,nose_tip_y,mouth_left_corner_x,mouth_left_corner_y,mouth_right_corner_x,mouth_right_corner_y,mouth_center_top_lip_x,mouth_center_top_lip_y,mouth_center_bottom_lip_x,mouth_center_bottom_lip_y,Image\"\n",
    "print zip(labels.split(\",\") , b)"
   ]
  },
  {
   "cell_type": "code",
   "execution_count": null,
   "metadata": {
    "collapsed": true
   },
   "outputs": [],
   "source": []
  }
 ],
 "metadata": {
  "kernelspec": {
   "display_name": "Python 2",
   "language": "python",
   "name": "python2"
  },
  "language_info": {
   "codemirror_mode": {
    "name": "ipython",
    "version": 2
   },
   "file_extension": ".py",
   "mimetype": "text/x-python",
   "name": "python",
   "nbconvert_exporter": "python",
   "pygments_lexer": "ipython2",
   "version": "2.7.12"
  }
 },
 "nbformat": 4,
 "nbformat_minor": 0
}
